{
 "cells": [
  {
   "cell_type": "code",
   "execution_count": 1,
   "id": "e9b880f5-89d2-4e08-8d5a-cb0bf62b9c99",
   "metadata": {},
   "outputs": [],
   "source": [
    "import pandas as pd"
   ]
  },
  {
   "cell_type": "code",
   "execution_count": 2,
   "id": "5475fc70-ffaa-45ae-a9ea-830295488910",
   "metadata": {},
   "outputs": [],
   "source": [
    "df = pd.read_csv('train_test_data/training_data.csv')"
   ]
  },
  {
   "cell_type": "markdown",
   "id": "92e07e2e-38ca-429a-939f-261b98afa9f4",
   "metadata": {},
   "source": [
    "# EDA"
   ]
  },
  {
   "cell_type": "code",
   "execution_count": 3,
   "id": "77354224-a11b-485a-b3fb-81bc7c2d1657",
   "metadata": {},
   "outputs": [
    {
     "data": {
      "text/html": [
       "<div>\n",
       "<style scoped>\n",
       "    .dataframe tbody tr th:only-of-type {\n",
       "        vertical-align: middle;\n",
       "    }\n",
       "\n",
       "    .dataframe tbody tr th {\n",
       "        vertical-align: top;\n",
       "    }\n",
       "\n",
       "    .dataframe thead th {\n",
       "        text-align: right;\n",
       "    }\n",
       "</style>\n",
       "<table border=\"1\" class=\"dataframe\">\n",
       "  <thead>\n",
       "    <tr style=\"text-align: right;\">\n",
       "      <th></th>\n",
       "      <th>text</th>\n",
       "      <th>label</th>\n",
       "    </tr>\n",
       "  </thead>\n",
       "  <tbody>\n",
       "    <tr>\n",
       "      <th>0</th>\n",
       "      <td>Wall St. Bears Claw Back Into the Black (Reute...</td>\n",
       "      <td>2</td>\n",
       "    </tr>\n",
       "    <tr>\n",
       "      <th>1</th>\n",
       "      <td>Carlyle Looks Toward Commercial Aerospace (Reu...</td>\n",
       "      <td>2</td>\n",
       "    </tr>\n",
       "    <tr>\n",
       "      <th>2</th>\n",
       "      <td>Oil and Economy Cloud Stocks' Outlook (Reuters...</td>\n",
       "      <td>2</td>\n",
       "    </tr>\n",
       "    <tr>\n",
       "      <th>3</th>\n",
       "      <td>Iraq Halts Oil Exports from Main Southern Pipe...</td>\n",
       "      <td>2</td>\n",
       "    </tr>\n",
       "  </tbody>\n",
       "</table>\n",
       "</div>"
      ],
      "text/plain": [
       "                                                text  label\n",
       "0  Wall St. Bears Claw Back Into the Black (Reute...      2\n",
       "1  Carlyle Looks Toward Commercial Aerospace (Reu...      2\n",
       "2  Oil and Economy Cloud Stocks' Outlook (Reuters...      2\n",
       "3  Iraq Halts Oil Exports from Main Southern Pipe...      2"
      ]
     },
     "execution_count": 3,
     "metadata": {},
     "output_type": "execute_result"
    }
   ],
   "source": [
    "df.head(4)"
   ]
  },
  {
   "cell_type": "code",
   "execution_count": 4,
   "id": "9fcff9cb-d7f0-4dfd-bca8-e31b9ad75405",
   "metadata": {},
   "outputs": [
    {
     "data": {
      "text/plain": [
       "text     0\n",
       "label    0\n",
       "dtype: int64"
      ]
     },
     "execution_count": 4,
     "metadata": {},
     "output_type": "execute_result"
    }
   ],
   "source": [
    "# check for nans\n",
    "df.isna().sum()"
   ]
  },
  {
   "cell_type": "code",
   "execution_count": 5,
   "id": "36a7aa85-dbd2-4ffc-9b00-cff0d5b9173c",
   "metadata": {},
   "outputs": [
    {
     "data": {
      "text/plain": [
       "array([2, 3, 1, 0])"
      ]
     },
     "execution_count": 5,
     "metadata": {},
     "output_type": "execute_result"
    }
   ],
   "source": [
    "# check for unique values in label column\n",
    "unique_labels = df['label'].unique()\n",
    "unique_labels"
   ]
  },
  {
   "cell_type": "code",
   "execution_count": 6,
   "id": "ac0a34e1-7a1c-4271-a851-f2f72269a22c",
   "metadata": {},
   "outputs": [
    {
     "data": {
      "text/plain": [
       "label\n",
       "2    30000\n",
       "3    30000\n",
       "1    30000\n",
       "0    30000\n",
       "Name: count, dtype: int64"
      ]
     },
     "execution_count": 6,
     "metadata": {},
     "output_type": "execute_result"
    }
   ],
   "source": [
    "# check for class distribution\n",
    "label_distribution = df['label'].value_counts()\n",
    "label_distribution"
   ]
  },
  {
   "cell_type": "code",
   "execution_count": 7,
   "id": "94734658-7842-4394-8d7e-b6aca3baa248",
   "metadata": {},
   "outputs": [
    {
     "name": "stdout",
     "output_type": "stream",
     "text": [
      "Minimum Word Count: 8\n",
      "Maximum Word Count: 177\n",
      "Average Word Count: 37.84745\n"
     ]
    }
   ],
   "source": [
    "# calculate word count of each text\n",
    "df['word_count'] = df['text'].str.split().str.len()\n",
    "\n",
    "# calculate min, max, and average word count\n",
    "min_word_count = df['word_count'].min()\n",
    "max_word_count = df['word_count'].max()\n",
    "average_word_count = df['word_count'].mean()\n",
    "\n",
    "print(f\"Minimum Word Count: {min_word_count}\")\n",
    "print(f\"Maximum Word Count: {max_word_count}\")\n",
    "print(f\"Average Word Count: {average_word_count}\")"
   ]
  },
  {
   "cell_type": "code",
   "execution_count": 8,
   "id": "7c933d32-4098-427d-a194-9f0d3632b177",
   "metadata": {
    "scrolled": true
   },
   "outputs": [
    {
     "name": "stdout",
     "output_type": "stream",
     "text": [
      "Ten things we learned this week in the NBA 1. Item: At 71, Hubie Brown suddenly retired as coach of the Memphis Grizzlies Thursday night. Brown, who was 83-65 with the Grizzlies in parts of three seasons, said unexpected health issues were the cause \n",
      "\n",
      "\n",
      "Radical cleric issues fatwa demanding release of French reporters (AFP) AFP - A leading radical Iraqi cleric issued a fatwa (Islamic decree) demanding the immediate release of two French reporters held hostage for more than two weeks.\n",
      "\n",
      "\n",
      "Primate researcher brings environmental message to Singapore &lt;b&gt;...&lt;/b&gt; Dr Jane Goodall delivers her keynote speech while a picture of a chimpanzee which she calls her oldest chimp friend is projected in the background, in Singapore during the Biology in Asia International Conference.\n",
      "\n",
      "\n",
      "A Patent Strain on Innovation OCTOBER 04, 2004 (COMPUTERWORLD) - Some things are patently ridiculous. One is the US patent system, an institution in desperate need of reform.\n",
      "\n",
      "\n",
      "Calif. Lawmaker Seeks End of Bowl Series (AP) AP - The Republican leader of the California Senate has introduced a resolution calling for the dissolution of the Bowl Championship Series.\n",
      "\n",
      "\n"
     ]
    }
   ],
   "source": [
    "random_rows = df['text'].sample(5)\n",
    "for row in random_rows:\n",
    "    print(row)\n",
    "    print(\"\\n\")"
   ]
  },
  {
   "cell_type": "code",
   "execution_count": 9,
   "id": "31f7ecbc-cab3-44e7-8f36-4f77b12fa5b3",
   "metadata": {},
   "outputs": [],
   "source": [
    "# finding rows with the min word count\n",
    "min_word_count_rows = df[df['word_count'] == df['word_count'].min()].reset_index(drop=True)\n",
    "# finding rows with the max word count\n",
    "max_word_count_rows = df[df['word_count'] == df['word_count'].max()].reset_index(drop=True)"
   ]
  },
  {
   "cell_type": "code",
   "execution_count": 10,
   "id": "bbae129b-66af-4d76-9398-8387d46412de",
   "metadata": {},
   "outputs": [
    {
     "name": "stdout",
     "output_type": "stream",
     "text": [
      "min word count rows:\n",
      "Stocks to Watch  ORACLE CORP. &lt;A HREF=\"http://www.investor.reuters.com/FullQuote.aspx?ticker=ORCL.O target=/stocks/quickinfo/fullquote\"&gt;ORCL.O&lt;/A&gt;:\n",
      "\n",
      "\n",
      "Stocks to Watch  DELL INC. &lt;A HREF=\"http://www.investor.reuters.com/FullQuote.aspx?ticker=DELL.O target=/stocks/quickinfo/fullquote\"&gt;DELL.O&lt;/A&gt;:\n",
      "\n",
      "\n",
      "The PeopleSoft vs. Oracle clash &lt;strong&gt;A &lt;cite&gt;Register&lt;/cite&gt; History&lt;/strong&gt; \n",
      "\n",
      "\n",
      "WIZARDSINSIDER  WHO'S NEXT? &lt;br&gt;at Lakers&lt;br&gt;Friday, 10:30 p.m.&lt;br&gt;Comcast SportsNet\n",
      "\n",
      "\n"
     ]
    }
   ],
   "source": [
    "print(\"min word count rows:\")\n",
    "for text in min_word_count_rows[\"text\"]:\n",
    "    print(f\"{text}\\n\\n\")"
   ]
  },
  {
   "cell_type": "code",
   "execution_count": 11,
   "id": "70a7109b-dfa2-4def-829f-5313da3c17e4",
   "metadata": {},
   "outputs": [
    {
     "name": "stdout",
     "output_type": "stream",
     "text": [
      "max word count rows:\n",
      "2004 US Senate Outlook With all the hoopla over Bush and Kerry, some of you may not have been paying close attention to the other races going on in this loaded US political season. I've read a good dozen or so Senate outlooks, and my blurry eyes and spinning brain kept getting lost in all the numbers and losing track of who, ultimately, was likely to control the Senate on November third. So I made my very own Senate outlook to figure it out (or add further confusion, depending on what you think of my predictions). The bad news is, we probably won't know who controls the Senate on November third. The good news, if you're a Democrat (or a person who loves one), is that my best guess at this point is that when the dust settles, Democrats will probably be in control by the very slimmest possible margin. Shock! But everyone knows the Dems have no chance of taking either house of Congress. I think everyone hasn't been paying attention. Read on for my rundown.\n",
      "\n",
      "\n"
     ]
    }
   ],
   "source": [
    "print(\"max word count rows:\")\n",
    "for text in max_word_count_rows[\"text\"]:\n",
    "    print(f\"{text}\\n\\n\")"
   ]
  },
  {
   "cell_type": "markdown",
   "id": "4466c25a-587e-4fe5-9e38-88b6f9309c2f",
   "metadata": {},
   "source": [
    "# Data clean and preprocess"
   ]
  },
  {
   "cell_type": "code",
   "execution_count": 12,
   "id": "bffbfe1d-e0b9-4d44-8210-c5ca14c3251b",
   "metadata": {},
   "outputs": [
    {
     "name": "stderr",
     "output_type": "stream",
     "text": [
      "[nltk_data] Downloading package punkt to /home/sakii/nltk_data...\n",
      "[nltk_data]   Package punkt is already up-to-date!\n",
      "[nltk_data] Downloading package stopwords to /home/sakii/nltk_data...\n",
      "[nltk_data]   Package stopwords is already up-to-date!\n",
      "[nltk_data] Downloading package wordnet to /home/sakii/nltk_data...\n",
      "[nltk_data]   Package wordnet is already up-to-date!\n"
     ]
    }
   ],
   "source": [
    "from bs4 import BeautifulSoup\n",
    "import html\n",
    "import re\n",
    "from nltk.corpus import stopwords\n",
    "from nltk.tokenize import word_tokenize\n",
    "from nltk.stem import WordNetLemmatizer\n",
    "# download NLTK resources\n",
    "import nltk\n",
    "nltk.download(\"punkt\")\n",
    "nltk.download(\"stopwords\")\n",
    "nltk.download(\"wordnet\")\n",
    "\n",
    "def clean_text(text):\n",
    "    # decode HTML entities\n",
    "    text = html.unescape(text)\n",
    "    # remove HTML tags\n",
    "    soup = BeautifulSoup(text, \"html.parser\")\n",
    "    return soup.get_text().strip()\n",
    "\n",
    "def preprocess_text(text):\n",
    "    # remove newline characters\n",
    "    text = text.replace(\"\\n\", \" \") \n",
    "    # lowercase\n",
    "    text = text.lower()\n",
    "    # remove punctuation\n",
    "    text = re.sub(r\"[^\\w\\s]\", \"\", text)\n",
    "    # tokenize\n",
    "    tokens = word_tokenize(text)\n",
    "    # remove stopwords\n",
    "    stop_words = set(stopwords.words(\"english\"))\n",
    "    tokens = [word for word in tokens if word not in stop_words]\n",
    "    # lemmatization\n",
    "    lemmatizer = WordNetLemmatizer()\n",
    "    tokens = [lemmatizer.lemmatize(word) for word in tokens]\n",
    "    return \" \".join(tokens)\n"
   ]
  },
  {
   "cell_type": "code",
   "execution_count": 13,
   "id": "56d2fb18-fe09-4352-b1fe-d884888cf69b",
   "metadata": {},
   "outputs": [],
   "source": [
    "df['clean_text'] = df['text'].map(clean_text).map(preprocess_text)"
   ]
  },
  {
   "cell_type": "code",
   "execution_count": 14,
   "id": "601642f6-4860-47ac-aa3b-665be0347dae",
   "metadata": {},
   "outputs": [
    {
     "data": {
      "text/html": [
       "<div>\n",
       "<style scoped>\n",
       "    .dataframe tbody tr th:only-of-type {\n",
       "        vertical-align: middle;\n",
       "    }\n",
       "\n",
       "    .dataframe tbody tr th {\n",
       "        vertical-align: top;\n",
       "    }\n",
       "\n",
       "    .dataframe thead th {\n",
       "        text-align: right;\n",
       "    }\n",
       "</style>\n",
       "<table border=\"1\" class=\"dataframe\">\n",
       "  <thead>\n",
       "    <tr style=\"text-align: right;\">\n",
       "      <th></th>\n",
       "      <th>text</th>\n",
       "      <th>label</th>\n",
       "      <th>word_count</th>\n",
       "      <th>clean_text</th>\n",
       "    </tr>\n",
       "  </thead>\n",
       "  <tbody>\n",
       "    <tr>\n",
       "      <th>0</th>\n",
       "      <td>Wall St. Bears Claw Back Into the Black (Reute...</td>\n",
       "      <td>2</td>\n",
       "      <td>21</td>\n",
       "      <td>wall st bear claw back black reuters reuters s...</td>\n",
       "    </tr>\n",
       "    <tr>\n",
       "      <th>1</th>\n",
       "      <td>Carlyle Looks Toward Commercial Aerospace (Reu...</td>\n",
       "      <td>2</td>\n",
       "      <td>36</td>\n",
       "      <td>carlyle look toward commercial aerospace reute...</td>\n",
       "    </tr>\n",
       "    <tr>\n",
       "      <th>2</th>\n",
       "      <td>Oil and Economy Cloud Stocks' Outlook (Reuters...</td>\n",
       "      <td>2</td>\n",
       "      <td>36</td>\n",
       "      <td>oil economy cloud stock outlook reuters reuter...</td>\n",
       "    </tr>\n",
       "    <tr>\n",
       "      <th>3</th>\n",
       "      <td>Iraq Halts Oil Exports from Main Southern Pipe...</td>\n",
       "      <td>2</td>\n",
       "      <td>36</td>\n",
       "      <td>iraq halt oil export main southern pipeline re...</td>\n",
       "    </tr>\n",
       "    <tr>\n",
       "      <th>4</th>\n",
       "      <td>Oil prices soar to all-time record, posing new...</td>\n",
       "      <td>2</td>\n",
       "      <td>37</td>\n",
       "      <td>oil price soar alltime record posing new menac...</td>\n",
       "    </tr>\n",
       "  </tbody>\n",
       "</table>\n",
       "</div>"
      ],
      "text/plain": [
       "                                                text  label  word_count  \\\n",
       "0  Wall St. Bears Claw Back Into the Black (Reute...      2          21   \n",
       "1  Carlyle Looks Toward Commercial Aerospace (Reu...      2          36   \n",
       "2  Oil and Economy Cloud Stocks' Outlook (Reuters...      2          36   \n",
       "3  Iraq Halts Oil Exports from Main Southern Pipe...      2          36   \n",
       "4  Oil prices soar to all-time record, posing new...      2          37   \n",
       "\n",
       "                                          clean_text  \n",
       "0  wall st bear claw back black reuters reuters s...  \n",
       "1  carlyle look toward commercial aerospace reute...  \n",
       "2  oil economy cloud stock outlook reuters reuter...  \n",
       "3  iraq halt oil export main southern pipeline re...  \n",
       "4  oil price soar alltime record posing new menac...  "
      ]
     },
     "execution_count": 14,
     "metadata": {},
     "output_type": "execute_result"
    }
   ],
   "source": [
    "df.head()"
   ]
  },
  {
   "cell_type": "markdown",
   "id": "c36d581d-b096-45d5-95e6-0509a5b2f6a7",
   "metadata": {},
   "source": [
    "# Traditional machine learning models"
   ]
  },
  {
   "cell_type": "code",
   "execution_count": 15,
   "id": "0bc3f58a-a8a9-4ee2-9d84-beb0d5858458",
   "metadata": {},
   "outputs": [],
   "source": [
    "from sklearn.model_selection import train_test_split\n",
    "from sklearn.feature_extraction.text import TfidfVectorizer"
   ]
  },
  {
   "cell_type": "code",
   "execution_count": 16,
   "id": "19e16ede-4f2b-474a-aa4d-5776aad44e45",
   "metadata": {},
   "outputs": [],
   "source": [
    "# split data\n",
    "X = df['clean_text']\n",
    "y = df['label']\n",
    "X_train, X_test, y_train, y_test = train_test_split(X, y, test_size=0.2, random_state=10)"
   ]
  },
  {
   "cell_type": "markdown",
   "id": "064a8fd8-f2b8-472f-8794-4591c62bb414",
   "metadata": {},
   "source": [
    "## Naive bayes"
   ]
  },
  {
   "cell_type": "code",
   "execution_count": 17,
   "id": "7f7b3dc0-e256-435b-9cb3-aa3386fb38fa",
   "metadata": {},
   "outputs": [],
   "source": [
    "from sklearn.naive_bayes import MultinomialNB\n",
    "from sklearn.metrics import accuracy_score, classification_report, confusion_matrix"
   ]
  },
  {
   "cell_type": "code",
   "execution_count": 18,
   "id": "ad6d0118-258d-450f-a0a8-fc1d4a463655",
   "metadata": {},
   "outputs": [
    {
     "name": "stdout",
     "output_type": "stream",
     "text": [
      "Testing ngram_range=(1, 1)\n",
      "Accuracy: 0.9029166666666667\n",
      "Classification Report:\n",
      "               precision    recall  f1-score   support\n",
      "\n",
      "           0       0.91      0.89      0.90      5891\n",
      "           1       0.95      0.98      0.96      6009\n",
      "           2       0.88      0.87      0.87      6019\n",
      "           3       0.88      0.88      0.88      6081\n",
      "\n",
      "    accuracy                           0.90     24000\n",
      "   macro avg       0.90      0.90      0.90     24000\n",
      "weighted avg       0.90      0.90      0.90     24000\n",
      "\n",
      "Confusion Matrix:\n",
      " [[5233  206  274  178]\n",
      " [  64 5887   24   34]\n",
      " [ 191   64 5214  550]\n",
      " [ 240   60  445 5336]]\n",
      "\n",
      "\n",
      "\n",
      "\n",
      "Testing ngram_range=(1, 2)\n",
      "Accuracy: 0.9025\n",
      "Classification Report:\n",
      "               precision    recall  f1-score   support\n",
      "\n",
      "           0       0.91      0.89      0.90      5891\n",
      "           1       0.95      0.98      0.96      6009\n",
      "           2       0.88      0.86      0.87      6019\n",
      "           3       0.87      0.88      0.88      6081\n",
      "\n",
      "    accuracy                           0.90     24000\n",
      "   macro avg       0.90      0.90      0.90     24000\n",
      "weighted avg       0.90      0.90      0.90     24000\n",
      "\n",
      "Confusion Matrix:\n",
      " [[5251  215  250  175]\n",
      " [  61 5890   23   35]\n",
      " [ 207   69 5166  577]\n",
      " [ 240   58  430 5353]]\n",
      "\n",
      "\n",
      "\n",
      "\n",
      "Testing ngram_range=(2, 2)\n",
      "Accuracy: 0.837625\n",
      "Classification Report:\n",
      "               precision    recall  f1-score   support\n",
      "\n",
      "           0       0.75      0.87      0.81      5891\n",
      "           1       0.91      0.91      0.91      6009\n",
      "           2       0.85      0.81      0.83      6019\n",
      "           3       0.85      0.76      0.80      6081\n",
      "\n",
      "    accuracy                           0.84     24000\n",
      "   macro avg       0.84      0.84      0.84     24000\n",
      "weighted avg       0.84      0.84      0.84     24000\n",
      "\n",
      "Confusion Matrix:\n",
      " [[5132  249  291  219]\n",
      " [ 385 5490   63   71]\n",
      " [ 493   98 4881  547]\n",
      " [ 810  179  492 4600]]\n",
      "\n",
      "\n",
      "\n",
      "\n"
     ]
    }
   ],
   "source": [
    "# trying different ngram ranges\n",
    "for ngram_range in [(1, 1), (1, 2), (2, 2)]:\n",
    "    print(f\"Testing ngram_range={ngram_range}\")\n",
    "    \n",
    "    # vectorize text\n",
    "    tfidf_vectorizer = TfidfVectorizer(ngram_range=ngram_range, max_features=10000)\n",
    "    # tested multiple max_features value, 10000 is good balance for traning time and accuracy \n",
    "    X_train_tfidf = tfidf_vectorizer.fit_transform(X_train)\n",
    "    X_test_tfidf = tfidf_vectorizer.transform(X_test)\n",
    "    \n",
    "    # train Naive Bayes and evaluate model\n",
    "    model = MultinomialNB()\n",
    "    model.fit(X_train_tfidf, y_train)\n",
    "    y_pred = model.predict(X_test_tfidf)\n",
    "    \n",
    "    # Evaluate\n",
    "    print(\"Accuracy:\", accuracy_score(y_test, y_pred))\n",
    "    print(\"Classification Report:\\n\", classification_report(y_test, y_pred))\n",
    "    print(\"Confusion Matrix:\\n\", confusion_matrix(y_test, y_pred))\n",
    "    print(\"\\n\")\n",
    "    print('\\n')"
   ]
  },
  {
   "cell_type": "code",
   "execution_count": 19,
   "id": "f4d22210-515c-4ffd-985f-9fea9306d6aa",
   "metadata": {},
   "outputs": [],
   "source": [
    "# TF-IDF vectorization with best parameters\n",
    "tfidf_vectorizer = TfidfVectorizer(max_features=10000, ngram_range=(1, 2))\n",
    "X_train_tfidf = tfidf_vectorizer.fit_transform(X_train)\n",
    "X_test_tfidf = tfidf_vectorizer.transform(X_test)"
   ]
  },
  {
   "cell_type": "code",
   "execution_count": 20,
   "id": "5ea7b4fc-cc24-40af-9717-dab1e04cba4c",
   "metadata": {},
   "outputs": [
    {
     "name": "stdout",
     "output_type": "stream",
     "text": [
      "Accuracy: 0.9025\n",
      "Classification Report:\n",
      "               precision    recall  f1-score   support\n",
      "\n",
      "           0       0.91      0.89      0.90      5891\n",
      "           1       0.95      0.98      0.96      6009\n",
      "           2       0.88      0.86      0.87      6019\n",
      "           3       0.87      0.88      0.88      6081\n",
      "\n",
      "    accuracy                           0.90     24000\n",
      "   macro avg       0.90      0.90      0.90     24000\n",
      "weighted avg       0.90      0.90      0.90     24000\n",
      "\n",
      "Confusion Matrix:\n",
      " [[5251  215  250  175]\n",
      " [  61 5890   23   35]\n",
      " [ 207   69 5166  577]\n",
      " [ 240   58  430 5353]]\n",
      "\n",
      "\n",
      "\n",
      "\n"
     ]
    }
   ],
   "source": [
    "## best naive bayes model\n",
    "# retrain with best parameters for naive bayes\n",
    "model = MultinomialNB()\n",
    "model.fit(X_train_tfidf, y_train)\n",
    "y_pred = model.predict(X_test_tfidf)\n",
    "\n",
    "# Evaluate\n",
    "print(\"Accuracy:\", accuracy_score(y_test, y_pred))\n",
    "print(\"Classification Report:\\n\", classification_report(y_test, y_pred))\n",
    "print(\"Confusion Matrix:\\n\", confusion_matrix(y_test, y_pred))\n",
    "print(\"\\n\")\n",
    "print('\\n')"
   ]
  },
  {
   "cell_type": "markdown",
   "id": "a059eaac-cf44-4574-a687-004be0896e58",
   "metadata": {},
   "source": [
    "## Logistic Regression"
   ]
  },
  {
   "cell_type": "code",
   "execution_count": 21,
   "id": "1610066a-b0be-42a5-99c2-19ce7d00c284",
   "metadata": {},
   "outputs": [],
   "source": [
    "from sklearn.linear_model import LogisticRegression"
   ]
  },
  {
   "cell_type": "code",
   "execution_count": 22,
   "id": "41aef0d3-7ab5-4a8e-ba94-e31f7cecce7f",
   "metadata": {},
   "outputs": [
    {
     "name": "stdout",
     "output_type": "stream",
     "text": [
      "Logistic Regression Results:\n",
      "Accuracy: 0.9160416666666666\n",
      "Classification Report:\n",
      "               precision    recall  f1-score   support\n",
      "\n",
      "           0       0.93      0.90      0.91      5891\n",
      "           1       0.95      0.98      0.97      6009\n",
      "           2       0.89      0.89      0.89      6019\n",
      "           3       0.89      0.89      0.89      6081\n",
      "\n",
      "    accuracy                           0.92     24000\n",
      "   macro avg       0.92      0.92      0.92     24000\n",
      "weighted avg       0.92      0.92      0.92     24000\n",
      "\n",
      "Confusion Matrix:\n",
      " [[5321  172  216  182]\n",
      " [  63 5885   33   28]\n",
      " [ 174   52 5350  443]\n",
      " [ 184   62  406 5429]]\n"
     ]
    }
   ],
   "source": [
    "# train Logistic Regression\n",
    "logistic_regression = LogisticRegression(max_iter=5000, random_state=42)\n",
    "logistic_regression.fit(X_train_tfidf, y_train)\n",
    "y_pred_lr = logistic_regression.predict(X_test_tfidf)\n",
    "# evaluate Logistic Regression\n",
    "print(\"Logistic Regression Results:\")\n",
    "print(\"Accuracy:\", accuracy_score(y_test, y_pred_lr))\n",
    "print(\"Classification Report:\\n\", classification_report(y_test, y_pred_lr))\n",
    "print(\"Confusion Matrix:\\n\", confusion_matrix(y_test, y_pred_lr))"
   ]
  },
  {
   "cell_type": "markdown",
   "id": "2615e92f-7f6d-4eb6-8556-26e14f310326",
   "metadata": {},
   "source": [
    "## SVM"
   ]
  },
  {
   "cell_type": "code",
   "execution_count": 23,
   "id": "fb34512e-9309-4463-a6f3-f95e864e8951",
   "metadata": {},
   "outputs": [],
   "source": [
    "from sklearn.svm import LinearSVC\n",
    "from sklearn.model_selection import GridSearchCV"
   ]
  },
  {
   "cell_type": "code",
   "execution_count": 24,
   "id": "f1267bdd-9937-4a27-a7c1-b9ca0bf3615d",
   "metadata": {},
   "outputs": [
    {
     "name": "stderr",
     "output_type": "stream",
     "text": [
      "/home/sakii/anaconda3/envs/assesment/lib/python3.11/site-packages/sklearn/svm/_base.py:1249: ConvergenceWarning: Liblinear failed to converge, increase the number of iterations.\n",
      "  warnings.warn(\n",
      "/home/sakii/anaconda3/envs/assesment/lib/python3.11/site-packages/sklearn/svm/_base.py:1249: ConvergenceWarning: Liblinear failed to converge, increase the number of iterations.\n",
      "  warnings.warn(\n",
      "/home/sakii/anaconda3/envs/assesment/lib/python3.11/site-packages/sklearn/svm/_base.py:1249: ConvergenceWarning: Liblinear failed to converge, increase the number of iterations.\n",
      "  warnings.warn(\n",
      "/home/sakii/anaconda3/envs/assesment/lib/python3.11/site-packages/sklearn/svm/_base.py:1249: ConvergenceWarning: Liblinear failed to converge, increase the number of iterations.\n",
      "  warnings.warn(\n",
      "/home/sakii/anaconda3/envs/assesment/lib/python3.11/site-packages/sklearn/svm/_base.py:1249: ConvergenceWarning: Liblinear failed to converge, increase the number of iterations.\n",
      "  warnings.warn(\n"
     ]
    },
    {
     "name": "stdout",
     "output_type": "stream",
     "text": [
      "Best Parameters: {'C': 1.0, 'dual': True, 'loss': 'hinge'}\n",
      "SVM Results:\n",
      "Accuracy: 0.9185833333333333\n",
      "Classification Report:\n",
      "               precision    recall  f1-score   support\n",
      "\n",
      "           0       0.94      0.90      0.92      5891\n",
      "           1       0.95      0.98      0.97      6009\n",
      "           2       0.89      0.89      0.89      6019\n",
      "           3       0.89      0.90      0.90      6081\n",
      "\n",
      "    accuracy                           0.92     24000\n",
      "   macro avg       0.92      0.92      0.92     24000\n",
      "weighted avg       0.92      0.92      0.92     24000\n",
      "\n",
      "Confusion Matrix:\n",
      " [[5289  183  231  188]\n",
      " [  48 5912   29   20]\n",
      " [ 142   60 5370  447]\n",
      " [ 172   53  381 5475]]\n"
     ]
    }
   ],
   "source": [
    "import warnings\n",
    "warnings.filterwarnings('ignore')\n",
    "# define the parameter grid for tuning\n",
    "param_grid = {\n",
    "    'C': [0.1, 1.0, 10.0],           # regularization strength\n",
    "    'loss': ['hinge', 'squared_hinge'],  # loss function\n",
    "    'dual': [True, False]             # dual or primal formulation\n",
    "}\n",
    "\n",
    "# initialize LinearSVC\n",
    "svm = LinearSVC(random_state=42)\n",
    "\n",
    "# gridSearchCV to find the best hyperparameters\n",
    "grid_search = GridSearchCV(\n",
    "    estimator=svm,\n",
    "    param_grid=param_grid,\n",
    "    scoring='accuracy',  # use accuracy as the evaluation metric\n",
    "    cv=3,                # 3-fold cross-validation\n",
    "    n_jobs=-1           # use all available CPU cores\n",
    ")\n",
    "\n",
    "# fit the model\n",
    "grid_search.fit(X_train_tfidf, y_train)\n",
    "\n",
    "# get the best model\n",
    "best_svm = grid_search.best_estimator_\n",
    "\n",
    "# predict on the test set\n",
    "y_pred_svm = best_svm.predict(X_test_tfidf)\n",
    "\n",
    "# evaluate SVM\n",
    "print(\"Best Parameters:\", grid_search.best_params_)\n",
    "print(\"SVM Results:\")\n",
    "print(\"Accuracy:\", accuracy_score(y_test, y_pred_svm))\n",
    "print(\"Classification Report:\\n\", classification_report(y_test, y_pred_svm))\n",
    "print(\"Confusion Matrix:\\n\", confusion_matrix(y_test, y_pred_svm))"
   ]
  },
  {
   "cell_type": "markdown",
   "id": "0ef106d1-6bca-4a52-bd1e-1bfc095c0c0e",
   "metadata": {},
   "source": [
    "## Random Forest"
   ]
  },
  {
   "cell_type": "code",
   "execution_count": 25,
   "id": "b8524c4d-6d79-40b3-ad81-68ad481ecbe1",
   "metadata": {},
   "outputs": [],
   "source": [
    "from sklearn.ensemble import RandomForestClassifier"
   ]
  },
  {
   "cell_type": "code",
   "execution_count": 26,
   "id": "dc8ac266-43ca-43db-a081-ab3fffc8d688",
   "metadata": {},
   "outputs": [
    {
     "name": "stdout",
     "output_type": "stream",
     "text": [
      "Best Parameters: {'max_depth': None, 'max_features': 'log2', 'min_samples_leaf': 1, 'min_samples_split': 2, 'n_estimators': 200}\n",
      "Random Forest Results:\n",
      "Accuracy: 0.90725\n",
      "Classification Report:\n",
      "               precision    recall  f1-score   support\n",
      "\n",
      "           0       0.92      0.89      0.91      5891\n",
      "           1       0.94      0.98      0.96      6009\n",
      "           2       0.89      0.87      0.88      6019\n",
      "           3       0.88      0.88      0.88      6081\n",
      "\n",
      "    accuracy                           0.91     24000\n",
      "   macro avg       0.91      0.91      0.91     24000\n",
      "weighted avg       0.91      0.91      0.91     24000\n",
      "\n",
      "Confusion Matrix:\n",
      " [[5265  209  231  186]\n",
      " [  56 5888   30   35]\n",
      " [ 175   86 5254  504]\n",
      " [ 217   86  411 5367]]\n"
     ]
    }
   ],
   "source": [
    "# define the parameter grid for tuning\n",
    "param_grid = {\n",
    "    'n_estimators': [100, 200],  # number of trees\n",
    "    'max_depth': [None, 10, 20],  # maximum depth of the trees\n",
    "    'max_features': ['sqrt', 'log2'],  # number of features to consider at each split\n",
    "    'min_samples_split': [2, 5],  # minimum number of samples required to split a node\n",
    "    'min_samples_leaf': [1, 2]    # minimum number of samples required at a leaf node\n",
    "}\n",
    "\n",
    "# initialize Random Forest\n",
    "rf = RandomForestClassifier(random_state=42, n_jobs=-1)\n",
    "\n",
    "# use gridSearchCV to find the best hyperparameters\n",
    "grid_search = GridSearchCV(\n",
    "    estimator=rf,\n",
    "    param_grid=param_grid,\n",
    "    scoring='accuracy',  # use accuracy as the evaluation metric\n",
    "    cv=3,                # 3-fold cross-validation\n",
    "    n_jobs=-1           # use all available CPU cores\n",
    ")\n",
    "\n",
    "# fit the model\n",
    "grid_search.fit(X_train_tfidf, y_train)\n",
    "\n",
    "# get the best model\n",
    "best_rf = grid_search.best_estimator_\n",
    "\n",
    "# predict on the test set\n",
    "y_pred_rf = best_rf.predict(X_test_tfidf)\n",
    "\n",
    "# evaluate Random Forest\n",
    "print(\"Best Parameters:\", grid_search.best_params_)\n",
    "print(\"Random Forest Results:\")\n",
    "print(\"Accuracy:\", accuracy_score(y_test, y_pred_rf))\n",
    "print(\"Classification Report:\\n\", classification_report(y_test, y_pred_rf))\n",
    "print(\"Confusion Matrix:\\n\", confusion_matrix(y_test, y_pred_rf))"
   ]
  },
  {
   "cell_type": "markdown",
   "id": "cf4d7a41-ca83-44a6-878f-2a57fbbeb1b4",
   "metadata": {},
   "source": [
    "## Testing continuous bag of words approach (fasttext)"
   ]
  },
  {
   "cell_type": "code",
   "execution_count": 27,
   "id": "7579ad06-ba26-4ad9-9001-daa54f71d611",
   "metadata": {},
   "outputs": [],
   "source": [
    "import fasttext\n",
    "import re"
   ]
  },
  {
   "cell_type": "code",
   "execution_count": null,
   "id": "be0ac6af-e40a-450d-8724-687ee3175635",
   "metadata": {},
   "outputs": [],
   "source": []
  },
  {
   "cell_type": "code",
   "execution_count": 28,
   "id": "961b79b7-0518-4525-9d10-efc409515435",
   "metadata": {},
   "outputs": [
    {
     "name": "stdout",
     "output_type": "stream",
     "text": [
      "FastText data saved to fasttext_train_test_data/train.train and fasttext_train_test_data/test.test\n"
     ]
    }
   ],
   "source": [
    "# function to prepare data in fasttext format\n",
    "def prepare_fasttext_data(X_train, X_test, y_train, y_test, train_filename, test_filename):\n",
    "    # create DataFrames for training and test data\n",
    "    train_df = pd.DataFrame({'text': X_train, 'label': y_train})\n",
    "    test_df = pd.DataFrame({'text': X_test, 'label': y_test})\n",
    "    \n",
    "    # clean the text data using regex\n",
    "    def clean_text(text):\n",
    "        # replace all newlines and multiple spaces with a single space\n",
    "        text = re.sub(r'\\n+', ' ', text)\n",
    "        text = re.sub(r'\\s+', ' ', text)  # \\s+ matches any whitespace character\n",
    "        return text.strip()  # remove leading/trailing spaces\n",
    "    \n",
    "    train_df['text'] = train_df['text'].apply(clean_text)\n",
    "    test_df['text'] = test_df['text'].apply(clean_text)\n",
    "    \n",
    "    # format the data for FastText\n",
    "    train_df['fasttext_format'] = '__label__' + train_df['label'].astype(str) + ' ' + train_df['text']\n",
    "    test_df['fasttext_format'] = '__label__' + test_df['label'].astype(str) + ' ' + test_df['text']\n",
    "    \n",
    "    # save the formatted data to .train and .test files\n",
    "    train_df['fasttext_format'].to_csv(train_filename, index=False, header=False, encoding='utf-8')\n",
    "    test_df['fasttext_format'].to_csv(test_filename, index=False, header=False, encoding='utf-8')\n",
    "\n",
    "    print(f\"FastText data saved to {train_filename} and {test_filename}\")\n",
    "\n",
    "train_file = 'fasttext_train_test_data/train.train'\n",
    "test_file = 'fasttext_train_test_data/test.test'\n",
    "\n",
    "# prepare training and test data for fasttext\n",
    "prepare_fasttext_data(X_train, X_test, y_train, y_test, train_file, test_file)"
   ]
  },
  {
   "cell_type": "code",
   "execution_count": 29,
   "id": "b50119f8-2888-42c3-be5d-b1a8f749f96c",
   "metadata": {},
   "outputs": [
    {
     "name": "stdout",
     "output_type": "stream",
     "text": [
      "remove_blank_lines DONE!\n",
      "remove_quotes DONE!\n"
     ]
    }
   ],
   "source": [
    "# depending on the data, there might still be a few bad rows. these functions are used to clean those up\n",
    "def remove_quotes(filename):\n",
    "    with open(filename, 'r') as file:\n",
    "        content = file.read()\n",
    "    \n",
    "    while '\"' in content:\n",
    "        first_quote_index = content.find('\"')\n",
    "        if first_quote_index != -1:\n",
    "            second_quote_index = content.find('\"', first_quote_index + 1)\n",
    "            if second_quote_index != -1:\n",
    "                content = content[:first_quote_index] + content[second_quote_index + 1:]\n",
    "    \n",
    "    with open(filename, 'w') as file:\n",
    "        file.write(content)\n",
    "        \n",
    "def remove_blank_lines(filename):\n",
    "    # Read the file\n",
    "    with open(filename, 'r') as file:\n",
    "        lines = file.readlines()\n",
    "    \n",
    "    # Remove blank lines\n",
    "    non_blank_lines = [line.strip() for line in lines if line.strip()]\n",
    "    \n",
    "    # Write the non-blank lines back to the file\n",
    "    with open(filename, 'w') as file:\n",
    "        file.write('\\n'.join(non_blank_lines))\n",
    "        \n",
    "remove_blank_lines(train_file)\n",
    "remove_blank_lines(test_file)\n",
    "print('remove_blank_lines DONE!')\n",
    "\n",
    "remove_quotes(train_file)\n",
    "remove_quotes(test_file)\n",
    "print('remove_quotes DONE!')\n",
    "# the generated .train and .test file can now be used to train/test the fasttext model"
   ]
  },
  {
   "cell_type": "code",
   "execution_count": 30,
   "id": "bed54026-efd3-427c-b43e-a7cb9e766eec",
   "metadata": {},
   "outputs": [],
   "source": [
    "# train and evaluate FastText model\n",
    "def train_evaluate_fasttext(params):\n",
    "    # train model\n",
    "    model = fasttext.train_supervised(input=train_file, **params)\n",
    "    \n",
    "    # predict on the test set\n",
    "    y_pred = []\n",
    "    y_test_labels = []\n",
    "    \n",
    "    with open(test_file, 'r', encoding='utf-8') as f:\n",
    "        for line in f:\n",
    "            # extract the label and text\n",
    "            label = line.split(' ', 1)[0]\n",
    "            text = line.split(' ', 1)[1]\n",
    "            \n",
    "            # remove newline characters from the text\n",
    "            text = text.replace('\\n', ' ').strip()  # replace newlines with a space and strip extra spaces\n",
    "            \n",
    "            # Predict the label\n",
    "            pred_label = model.predict(text)[0][0]  # get the predicted label\n",
    "            y_pred.append(int(pred_label.split('__label__')[1]))  # extract the label number\n",
    "            y_test_labels.append(int(label.split('__label__')[1]))  # extract the true label number\n",
    "    \n",
    "    # Evaluate the model\n",
    "    accuracy = accuracy_score(y_test_labels, y_pred)\n",
    "    report = classification_report(y_test_labels, y_pred)\n",
    "    cm = confusion_matrix(y_test_labels, y_pred)\n",
    "    \n",
    "    return accuracy, report, cm"
   ]
  },
  {
   "cell_type": "code",
   "execution_count": 32,
   "id": "e6d2e65b-f4d9-4865-a52e-cc9799cadef7",
   "metadata": {},
   "outputs": [
    {
     "name": "stdout",
     "output_type": "stream",
     "text": [
      "Testing parameters: {'lr': 0.1, 'epoch': 10, 'wordNgrams': 1, 'dim': 100}\n"
     ]
    },
    {
     "name": "stderr",
     "output_type": "stream",
     "text": [
      "Read 2M words\n",
      "Number of words:  83649\n",
      "Number of labels: 4\n",
      "Progress: 100.0% words/sec/thread: 4806191 lr:  0.000000 avg.loss:  0.192318 ETA:   0h 0m 0s\n"
     ]
    },
    {
     "name": "stdout",
     "output_type": "stream",
     "text": [
      "Testing parameters: {'lr': 0.1, 'epoch': 10, 'wordNgrams': 1, 'dim': 200}\n"
     ]
    },
    {
     "name": "stderr",
     "output_type": "stream",
     "text": [
      "Read 2M words\n",
      "Number of words:  83649\n",
      "Number of labels: 4\n",
      "Progress: 100.0% words/sec/thread: 4021085 lr:  0.000000 avg.loss:  0.190645 ETA:   0h 0m 0s\n"
     ]
    },
    {
     "name": "stdout",
     "output_type": "stream",
     "text": [
      "Testing parameters: {'lr': 0.1, 'epoch': 10, 'wordNgrams': 2, 'dim': 100}\n"
     ]
    },
    {
     "name": "stderr",
     "output_type": "stream",
     "text": [
      "Read 2M words\n",
      "Number of words:  83649\n",
      "Number of labels: 4\n",
      "Progress: 100.0% words/sec/thread: 2010731 lr:  0.000000 avg.loss:  0.114738 ETA:   0h 0m 0s\n"
     ]
    },
    {
     "name": "stdout",
     "output_type": "stream",
     "text": [
      "Testing parameters: {'lr': 0.1, 'epoch': 10, 'wordNgrams': 2, 'dim': 200}\n"
     ]
    },
    {
     "name": "stderr",
     "output_type": "stream",
     "text": [
      "Read 2M words\n",
      "Number of words:  83649\n",
      "Number of labels: 4\n",
      "Progress: 100.0% words/sec/thread: 1091702 lr:  0.000000 avg.loss:  0.117783 ETA:   0h 0m 0s\n"
     ]
    },
    {
     "name": "stdout",
     "output_type": "stream",
     "text": [
      "Testing parameters: {'lr': 0.1, 'epoch': 20, 'wordNgrams': 1, 'dim': 100}\n"
     ]
    },
    {
     "name": "stderr",
     "output_type": "stream",
     "text": [
      "Read 2M words\n",
      "Number of words:  83649\n",
      "Number of labels: 4\n",
      "Progress: 100.0% words/sec/thread: 5357139 lr:  0.000000 avg.loss:  0.136974 ETA:   0h 0m 0s\n"
     ]
    },
    {
     "name": "stdout",
     "output_type": "stream",
     "text": [
      "Testing parameters: {'lr': 0.1, 'epoch': 20, 'wordNgrams': 1, 'dim': 200}\n"
     ]
    },
    {
     "name": "stderr",
     "output_type": "stream",
     "text": [
      "Read 2M words\n",
      "Number of words:  83649\n",
      "Number of labels: 4\n",
      "Progress: 100.0% words/sec/thread: 3992662 lr:  0.000000 avg.loss:  0.129073 ETA:   0h 0m 0s\n"
     ]
    },
    {
     "name": "stdout",
     "output_type": "stream",
     "text": [
      "Testing parameters: {'lr': 0.1, 'epoch': 20, 'wordNgrams': 2, 'dim': 100}\n"
     ]
    },
    {
     "name": "stderr",
     "output_type": "stream",
     "text": [
      "Read 2M words\n",
      "Number of words:  83649\n",
      "Number of labels: 4\n",
      "Progress: 100.0% words/sec/thread: 2007596 lr:  0.000000 avg.loss:  0.058998 ETA:   0h 0m 0s\n"
     ]
    },
    {
     "name": "stdout",
     "output_type": "stream",
     "text": [
      "Testing parameters: {'lr': 0.1, 'epoch': 20, 'wordNgrams': 2, 'dim': 200}\n"
     ]
    },
    {
     "name": "stderr",
     "output_type": "stream",
     "text": [
      "Read 2M words\n",
      "Number of words:  83649\n",
      "Number of labels: 4\n",
      "Progress: 100.0% words/sec/thread: 1114546 lr:  0.000000 avg.loss:  0.056011 ETA:   0h 0m 0s\n"
     ]
    },
    {
     "name": "stdout",
     "output_type": "stream",
     "text": [
      "Testing parameters: {'lr': 0.1, 'epoch': 30, 'wordNgrams': 1, 'dim': 100}\n"
     ]
    },
    {
     "name": "stderr",
     "output_type": "stream",
     "text": [
      "Read 2M words\n",
      "Number of words:  83649\n",
      "Number of labels: 4\n",
      "Progress: 100.0% words/sec/thread: 5559247 lr:  0.000000 avg.loss:  0.093378 ETA:   0h 0m 0s\n"
     ]
    },
    {
     "name": "stdout",
     "output_type": "stream",
     "text": [
      "Testing parameters: {'lr': 0.1, 'epoch': 30, 'wordNgrams': 1, 'dim': 200}\n"
     ]
    },
    {
     "name": "stderr",
     "output_type": "stream",
     "text": [
      "Read 2M words\n",
      "Number of words:  83649\n",
      "Number of labels: 4\n",
      "Progress: 100.0% words/sec/thread: 4023933 lr:  0.000000 avg.loss:  0.101853 ETA:   0h 0m 0s\n"
     ]
    },
    {
     "name": "stdout",
     "output_type": "stream",
     "text": [
      "Testing parameters: {'lr': 0.1, 'epoch': 30, 'wordNgrams': 2, 'dim': 100}\n"
     ]
    },
    {
     "name": "stderr",
     "output_type": "stream",
     "text": [
      "Read 2M words\n",
      "Number of words:  83649\n",
      "Number of labels: 4\n",
      "Progress: 100.0% words/sec/thread: 1891608 lr:  0.000000 avg.loss:  0.041100 ETA:   0h 0m 0s\n"
     ]
    },
    {
     "name": "stdout",
     "output_type": "stream",
     "text": [
      "Testing parameters: {'lr': 0.1, 'epoch': 30, 'wordNgrams': 2, 'dim': 200}\n"
     ]
    },
    {
     "name": "stderr",
     "output_type": "stream",
     "text": [
      "Read 2M words\n",
      "Number of words:  83649\n",
      "Number of labels: 4\n",
      "Progress: 100.0% words/sec/thread: 1106765 lr:  0.000000 avg.loss:  0.040590 ETA:   0h 0m 0s\n"
     ]
    },
    {
     "name": "stdout",
     "output_type": "stream",
     "text": [
      "Testing parameters: {'lr': 0.05, 'epoch': 10, 'wordNgrams': 1, 'dim': 100}\n"
     ]
    },
    {
     "name": "stderr",
     "output_type": "stream",
     "text": [
      "Read 2M words\n",
      "Number of words:  83649\n",
      "Number of labels: 4\n",
      "Progress: 100.0% words/sec/thread: 4819473 lr:  0.000000 avg.loss:  0.224859 ETA:   0h 0m 0s\n"
     ]
    },
    {
     "name": "stdout",
     "output_type": "stream",
     "text": [
      "Testing parameters: {'lr': 0.05, 'epoch': 10, 'wordNgrams': 1, 'dim': 200}\n"
     ]
    },
    {
     "name": "stderr",
     "output_type": "stream",
     "text": [
      "Read 2M words\n",
      "Number of words:  83649\n",
      "Number of labels: 4\n",
      "Progress: 100.0% words/sec/thread: 4021538 lr:  0.000000 avg.loss:  0.225494 ETA:   0h 0m 0s\n"
     ]
    },
    {
     "name": "stdout",
     "output_type": "stream",
     "text": [
      "Testing parameters: {'lr': 0.05, 'epoch': 10, 'wordNgrams': 2, 'dim': 100}\n"
     ]
    },
    {
     "name": "stderr",
     "output_type": "stream",
     "text": [
      "Read 2M words\n",
      "Number of words:  83649\n",
      "Number of labels: 4\n",
      "Progress: 100.0% words/sec/thread: 1850061 lr:  0.000000 avg.loss:  0.202248 ETA:   0h 0m 0s\n"
     ]
    },
    {
     "name": "stdout",
     "output_type": "stream",
     "text": [
      "Testing parameters: {'lr': 0.05, 'epoch': 10, 'wordNgrams': 2, 'dim': 200}\n"
     ]
    },
    {
     "name": "stderr",
     "output_type": "stream",
     "text": [
      "Read 2M words\n",
      "Number of words:  83649\n",
      "Number of labels: 4\n",
      "Progress: 100.0% words/sec/thread: 1088781 lr:  0.000000 avg.loss:  0.201689 ETA:   0h 0m 0s\n"
     ]
    },
    {
     "name": "stdout",
     "output_type": "stream",
     "text": [
      "Testing parameters: {'lr': 0.05, 'epoch': 20, 'wordNgrams': 1, 'dim': 100}\n"
     ]
    },
    {
     "name": "stderr",
     "output_type": "stream",
     "text": [
      "Read 2M words\n",
      "Number of words:  83649\n",
      "Number of labels: 4\n",
      "Progress: 100.0% words/sec/thread: 5358486 lr:  0.000000 avg.loss:  0.158185 ETA:   0h 0m 0s\n"
     ]
    },
    {
     "name": "stdout",
     "output_type": "stream",
     "text": [
      "Testing parameters: {'lr': 0.05, 'epoch': 20, 'wordNgrams': 1, 'dim': 200}\n"
     ]
    },
    {
     "name": "stderr",
     "output_type": "stream",
     "text": [
      "Read 2M words\n",
      "Number of words:  83649\n",
      "Number of labels: 4\n",
      "Progress: 100.0% words/sec/thread: 4019420 lr:  0.000000 avg.loss:  0.156201 ETA:   0h 0m 0s\n"
     ]
    },
    {
     "name": "stdout",
     "output_type": "stream",
     "text": [
      "Testing parameters: {'lr': 0.05, 'epoch': 20, 'wordNgrams': 2, 'dim': 100}\n"
     ]
    },
    {
     "name": "stderr",
     "output_type": "stream",
     "text": [
      "Read 2M words\n",
      "Number of words:  83649\n",
      "Number of labels: 4\n",
      "Progress: 100.0% words/sec/thread: 1922749 lr:  0.000000 avg.loss:  0.098084 ETA:   0h 0m 0s\n"
     ]
    },
    {
     "name": "stdout",
     "output_type": "stream",
     "text": [
      "Testing parameters: {'lr': 0.05, 'epoch': 20, 'wordNgrams': 2, 'dim': 200}\n"
     ]
    },
    {
     "name": "stderr",
     "output_type": "stream",
     "text": [
      "Read 2M words\n",
      "Number of words:  83649\n",
      "Number of labels: 4\n",
      "Progress: 100.0% words/sec/thread: 1139813 lr:  0.000000 avg.loss:  0.096577 ETA:   0h 0m 0s\n"
     ]
    },
    {
     "name": "stdout",
     "output_type": "stream",
     "text": [
      "Testing parameters: {'lr': 0.05, 'epoch': 30, 'wordNgrams': 1, 'dim': 100}\n"
     ]
    },
    {
     "name": "stderr",
     "output_type": "stream",
     "text": [
      "Read 2M words\n",
      "Number of words:  83649\n",
      "Number of labels: 4\n",
      "Progress: 100.0% words/sec/thread: 5568418 lr:  0.000000 avg.loss:  0.122203 ETA:   0h 0m 0s\n"
     ]
    },
    {
     "name": "stdout",
     "output_type": "stream",
     "text": [
      "Testing parameters: {'lr': 0.05, 'epoch': 30, 'wordNgrams': 1, 'dim': 200}\n"
     ]
    },
    {
     "name": "stderr",
     "output_type": "stream",
     "text": [
      "Read 2M words\n",
      "Number of words:  83649\n",
      "Number of labels: 4\n",
      "Progress: 100.0% words/sec/thread: 4014292 lr:  0.000000 avg.loss:  0.118387 ETA:   0h 0m 0s\n"
     ]
    },
    {
     "name": "stdout",
     "output_type": "stream",
     "text": [
      "Testing parameters: {'lr': 0.05, 'epoch': 30, 'wordNgrams': 2, 'dim': 100}\n"
     ]
    },
    {
     "name": "stderr",
     "output_type": "stream",
     "text": [
      "Read 2M words\n",
      "Number of words:  83649\n",
      "Number of labels: 4\n",
      "Progress: 100.0% words/sec/thread: 1953444 lr:  0.000000 avg.loss:  0.069953 ETA:   0h 0m 0s\n"
     ]
    },
    {
     "name": "stdout",
     "output_type": "stream",
     "text": [
      "Testing parameters: {'lr': 0.05, 'epoch': 30, 'wordNgrams': 2, 'dim': 200}\n"
     ]
    },
    {
     "name": "stderr",
     "output_type": "stream",
     "text": [
      "Read 2M words\n",
      "Number of words:  83649\n",
      "Number of labels: 4\n",
      "Progress: 100.0% words/sec/thread: 1144625 lr:  0.000000 avg.loss:  0.066956 ETA:   0h 0m 0s\n"
     ]
    },
    {
     "name": "stdout",
     "output_type": "stream",
     "text": [
      "Testing parameters: {'lr': 0.01, 'epoch': 10, 'wordNgrams': 1, 'dim': 100}\n"
     ]
    },
    {
     "name": "stderr",
     "output_type": "stream",
     "text": [
      "Read 2M words\n",
      "Number of words:  83649\n",
      "Number of labels: 4\n",
      "Progress: 100.0% words/sec/thread: 4822065 lr:  0.000000 avg.loss:  0.440241 ETA:   0h 0m 0s\n"
     ]
    },
    {
     "name": "stdout",
     "output_type": "stream",
     "text": [
      "Testing parameters: {'lr': 0.01, 'epoch': 10, 'wordNgrams': 1, 'dim': 200}\n"
     ]
    },
    {
     "name": "stderr",
     "output_type": "stream",
     "text": [
      "Read 2M words\n",
      "Number of words:  83649\n",
      "Number of labels: 4\n",
      "Progress: 100.0% words/sec/thread: 4021683 lr:  0.000000 avg.loss:  0.459511 ETA:   0h 0m 0s\n"
     ]
    },
    {
     "name": "stdout",
     "output_type": "stream",
     "text": [
      "Testing parameters: {'lr': 0.01, 'epoch': 10, 'wordNgrams': 2, 'dim': 100}\n"
     ]
    },
    {
     "name": "stderr",
     "output_type": "stream",
     "text": [
      "Read 2M words\n",
      "Number of words:  83649\n",
      "Number of labels: 4\n",
      "Progress: 100.0% words/sec/thread: 1705288 lr:  0.000000 avg.loss:  0.638141 ETA:   0h 0m 0s\n"
     ]
    },
    {
     "name": "stdout",
     "output_type": "stream",
     "text": [
      "Testing parameters: {'lr': 0.01, 'epoch': 10, 'wordNgrams': 2, 'dim': 200}\n"
     ]
    },
    {
     "name": "stderr",
     "output_type": "stream",
     "text": [
      "Read 2M words\n",
      "Number of words:  83649\n",
      "Number of labels: 4\n",
      "Progress: 100.0% words/sec/thread: 1149148 lr:  0.000000 avg.loss:  0.646468 ETA:   0h 0m 0s\n"
     ]
    },
    {
     "name": "stdout",
     "output_type": "stream",
     "text": [
      "Testing parameters: {'lr': 0.01, 'epoch': 20, 'wordNgrams': 1, 'dim': 100}\n"
     ]
    },
    {
     "name": "stderr",
     "output_type": "stream",
     "text": [
      "Read 2M words\n",
      "Number of words:  83649\n",
      "Number of labels: 4\n",
      "Progress: 100.0% words/sec/thread: 5357017 lr:  0.000000 avg.loss:  0.309456 ETA:   0h 0m 0s\n"
     ]
    },
    {
     "name": "stdout",
     "output_type": "stream",
     "text": [
      "Testing parameters: {'lr': 0.01, 'epoch': 20, 'wordNgrams': 1, 'dim': 200}\n"
     ]
    },
    {
     "name": "stderr",
     "output_type": "stream",
     "text": [
      "Read 2M words\n",
      "Number of words:  83649\n",
      "Number of labels: 4\n",
      "Progress: 100.0% words/sec/thread: 4018300 lr:  0.000000 avg.loss:  0.317925 ETA:   0h 0m 0s\n"
     ]
    },
    {
     "name": "stdout",
     "output_type": "stream",
     "text": [
      "Testing parameters: {'lr': 0.01, 'epoch': 20, 'wordNgrams': 2, 'dim': 100}\n"
     ]
    },
    {
     "name": "stderr",
     "output_type": "stream",
     "text": [
      "Read 2M words\n",
      "Number of words:  83649\n",
      "Number of labels: 4\n",
      "Progress: 100.0% words/sec/thread: 1847094 lr:  0.000000 avg.loss:  0.403276 ETA:   0h 0m 0s\n"
     ]
    },
    {
     "name": "stdout",
     "output_type": "stream",
     "text": [
      "Testing parameters: {'lr': 0.01, 'epoch': 20, 'wordNgrams': 2, 'dim': 200}\n"
     ]
    },
    {
     "name": "stderr",
     "output_type": "stream",
     "text": [
      "Read 2M words\n",
      "Number of words:  83649\n",
      "Number of labels: 4\n",
      "Progress: 100.0% words/sec/thread: 1119562 lr:  0.000000 avg.loss:  0.405407 ETA:   0h 0m 0s\n"
     ]
    },
    {
     "name": "stdout",
     "output_type": "stream",
     "text": [
      "Testing parameters: {'lr': 0.01, 'epoch': 30, 'wordNgrams': 1, 'dim': 100}\n"
     ]
    },
    {
     "name": "stderr",
     "output_type": "stream",
     "text": [
      "Read 2M words\n",
      "Number of words:  83649\n",
      "Number of labels: 4\n",
      "Progress: 100.0% words/sec/thread: 5553728 lr:  0.000000 avg.loss:  0.259115 ETA:   0h 0m 0s\n"
     ]
    },
    {
     "name": "stdout",
     "output_type": "stream",
     "text": [
      "Testing parameters: {'lr': 0.01, 'epoch': 30, 'wordNgrams': 1, 'dim': 200}\n"
     ]
    },
    {
     "name": "stderr",
     "output_type": "stream",
     "text": [
      "Read 2M words\n",
      "Number of words:  83649\n",
      "Number of labels: 4\n",
      "Progress: 100.0% words/sec/thread: 4011149 lr:  0.000000 avg.loss:  0.263815 ETA:   0h 0m 0s\n"
     ]
    },
    {
     "name": "stdout",
     "output_type": "stream",
     "text": [
      "Testing parameters: {'lr': 0.01, 'epoch': 30, 'wordNgrams': 2, 'dim': 100}\n"
     ]
    },
    {
     "name": "stderr",
     "output_type": "stream",
     "text": [
      "Read 2M words\n",
      "Number of words:  83649\n",
      "Number of labels: 4\n",
      "Progress: 100.0% words/sec/thread: 1948091 lr:  0.000000 avg.loss:  0.289381 ETA:   0h 0m 0s\n"
     ]
    },
    {
     "name": "stdout",
     "output_type": "stream",
     "text": [
      "Testing parameters: {'lr': 0.01, 'epoch': 30, 'wordNgrams': 2, 'dim': 200}\n"
     ]
    },
    {
     "name": "stderr",
     "output_type": "stream",
     "text": [
      "Read 2M words\n",
      "Number of words:  83649\n",
      "Number of labels: 4\n",
      "Progress: 100.0% words/sec/thread: 1126391 lr:  0.000000 avg.loss:  0.295695 ETA:   0h 0m 0s\n"
     ]
    },
    {
     "name": "stdout",
     "output_type": "stream",
     "text": [
      "Best Parameters: {'lr': 0.05, 'epoch': 10, 'wordNgrams': 2, 'dim': 200}\n",
      "FastText Results:\n",
      "Accuracy: 0.920125\n",
      "Classification Report:\n",
      "               precision    recall  f1-score   support\n",
      "\n",
      "           0       0.92      0.91      0.92      5891\n",
      "           1       0.96      0.98      0.97      6009\n",
      "           2       0.90      0.89      0.90      6019\n",
      "           3       0.90      0.90      0.90      6081\n",
      "\n",
      "    accuracy                           0.92     24000\n",
      "   macro avg       0.92      0.92      0.92     24000\n",
      "weighted avg       0.92      0.92      0.92     24000\n",
      "\n",
      "Confusion Matrix:\n",
      " [[5365  155  200  171]\n",
      " [  90 5872   26   21]\n",
      " [ 180   47 5365  427]\n",
      " [ 177   48  375 5481]]\n"
     ]
    }
   ],
   "source": [
    "# define the parameter grid for tuning\n",
    "param_grid = {\n",
    "    'lr': [0.1, 0.05, 0.01],  # learning rate\n",
    "    'epoch': [10, 20, 30],     # number of epochs\n",
    "    'wordNgrams': [1, 2],       # number of word n-grams\n",
    "    'dim': [100, 200]           # dimension of word vectors\n",
    "}\n",
    "\n",
    "# manual grid search\n",
    "fasttext_best_accuracy = 0\n",
    "fasttext_best_params = None\n",
    "fasttext_best_report = None\n",
    "fasttext_best_cm = None\n",
    "\n",
    "for lr in param_grid['lr']:\n",
    "    for epoch in param_grid['epoch']:\n",
    "        for wordNgrams in param_grid['wordNgrams']:\n",
    "            for dim in param_grid['dim']:\n",
    "                params = {\n",
    "                    'lr': lr,\n",
    "                    'epoch': epoch,\n",
    "                    'wordNgrams': wordNgrams,\n",
    "                    'dim': dim\n",
    "                }\n",
    "                print(f\"Testing parameters: {params}\")\n",
    "                accuracy, report, cm = train_evaluate_fasttext(params)\n",
    "                \n",
    "                if accuracy > fasttext_best_accuracy:\n",
    "                    fasttext_best_accuracy = accuracy\n",
    "                    fasttext_best_params = params\n",
    "                    fasttext_best_report = report\n",
    "                    fasttext_best_cm = cm\n",
    "\n",
    "# best results\n",
    "print(\"Best Parameters:\", fasttext_best_params)\n",
    "print(\"FastText Results:\")\n",
    "print(\"Accuracy:\", fasttext_best_accuracy)\n",
    "print(\"Classification Report:\\n\", fasttext_best_report)\n",
    "print(\"Confusion Matrix:\\n\", fasttext_best_cm)"
   ]
  },
  {
   "cell_type": "markdown",
   "id": "0b51326d-90db-41f5-8484-49aafdda52ff",
   "metadata": {},
   "source": [
    "# Side by side normalized heatmap comparison of all class labels for all models"
   ]
  },
  {
   "cell_type": "code",
   "execution_count": 42,
   "id": "23b96f50-cb25-40d7-987e-2563b7752c8f",
   "metadata": {},
   "outputs": [],
   "source": [
    "cms = [\n",
    "    confusion_matrix(y_test, y_pred),\n",
    "    confusion_matrix(y_test, y_pred_lr),\n",
    "    confusion_matrix(y_test, y_pred_svm),\n",
    "    confusion_matrix(y_test, y_pred_rf),\n",
    "    fasttext_best_cm\n",
    "]\n",
    "\n",
    "titles = [\"Naive bayes\",\n",
    "\"Logistic Regression\",\n",
    "\"SVM\",\n",
    "\"Random Forest\",\n",
    "\"Fasttext\"]"
   ]
  },
  {
   "cell_type": "code",
   "execution_count": 44,
   "id": "86ed12d0-550c-4a77-a490-7fa1e8982299",
   "metadata": {},
   "outputs": [
    {
     "data": {
      "image/png": "[encoded data removed]",
      "text/plain": [
       "<Figure size 3000x1000 with 5 Axes>"
      ]
     },
     "metadata": {},
     "output_type": "display_data"
    }
   ],
   "source": [
    "import numpy as np\n",
    "import matplotlib.pyplot as plt\n",
    "import seaborn as sns\n",
    "\n",
    "def normalize_confusion_matrix(cm):\n",
    "    \"\"\"normalize the confusion matrix by row (true labels).\"\"\"\n",
    "    return cm.astype('float') / cm.sum(axis=1)[:, np.newaxis]\n",
    "\n",
    "def plot_side_by_side_normalized_confusion_matrices(cms, titles, filename='confusion_matrices.png'):\n",
    "    \"\"\"\n",
    "    Plot multiple normalized confusion matrices side by side and save the figure.\n",
    "    \"\"\"\n",
    "    num_models = len(cms)\n",
    "    fig, axes = plt.subplots(1, num_models, figsize=(6 * num_models, 10))  # Adjust figure size based on the number of models\n",
    "    \n",
    "    for i, (cm, title) in enumerate(zip(cms, titles)):\n",
    "        # Normalize the confusion matrix\n",
    "        cm_normalized = normalize_confusion_matrix(cm)\n",
    "        \n",
    "        # Plot the heatmap\n",
    "        sns.heatmap(cm_normalized, annot=True, fmt='.2f', cmap='Blues', cbar=False, ax=axes[i], vmin=0, vmax=1)\n",
    "        axes[i].set_title(title)\n",
    "        axes[i].set_xlabel('Predicted')\n",
    "        axes[i].set_ylabel('True')\n",
    "    \n",
    "    plt.tight_layout()\n",
    "    plt.savefig(filename, bbox_inches='tight', dpi=300)  # Save the figure\n",
    "    plt.show()\n",
    "\n",
    "plot_side_by_side_normalized_confusion_matrices(cms, titles, filename='normalized_heatmap_comparison_all_class_labels.png')"
   ]
  },
  {
   "cell_type": "markdown",
   "id": "62d504f0-796f-4b8a-b9be-207a9e2d7923",
   "metadata": {},
   "source": [
    "# Side by side normalized misclassification patterns comparison of all models"
   ]
  },
  {
   "cell_type": "code",
   "execution_count": 46,
   "id": "149ff1cb-955c-4cac-ad53-2b5dbcd92e0f",
   "metadata": {},
   "outputs": [
    {
     "data": {
      "image/png": "[encoded data removed]",
      "text/plain": [
       "<Figure size 3000x1000 with 5 Axes>"
      ]
     },
     "metadata": {},
     "output_type": "display_data"
    }
   ],
   "source": [
    "def normalize_misclassification_pattern(cm):\n",
    "    \"\"\"\n",
    "    Normalize the confusion matrix and set diagonal to zero to focus on misclassifications.\n",
    "    \n",
    "    Parameters:\n",
    "        cm (2D array): Confusion matrix.\n",
    "    \n",
    "    Returns:\n",
    "        cm_normalized (2D array): Normalized confusion matrix with diagonal set to zero.\n",
    "    \"\"\"\n",
    "    cm_normalized = cm.astype('float') / cm.sum(axis=1)[:, np.newaxis]  # Normalize by row\n",
    "    np.fill_diagonal(cm_normalized, 0)  # Set diagonal to zero\n",
    "    return cm_normalized\n",
    "\n",
    "def plot_side_by_side_misclassification_patterns(cms, titles, save_path='misclassification_patterns.png'):\n",
    "    \"\"\"\n",
    "    Plot side-by-side heatmaps of normalized misclassification patterns.\n",
    "    \n",
    "    Parameters:\n",
    "        cms (list of 2D arrays): List of confusion matrices.\n",
    "        titles (list of str): Titles for each subplot.\n",
    "        save_path (str): Path to save the image.\n",
    "    \"\"\"\n",
    "    num_models = len(cms)\n",
    "    fig, axes = plt.subplots(1, num_models, figsize=(6 * num_models, 10))  # Adjust figure size based on the number of models\n",
    "    \n",
    "    for i, (cm, title) in enumerate(zip(cms, titles)):\n",
    "        # Normalize and set diagonal to zero\n",
    "        cm_misclassification = normalize_misclassification_pattern(cm)\n",
    "        \n",
    "        # Plot the heatmap\n",
    "        sns.heatmap(cm_misclassification, annot=True, fmt='.2f', cmap='Reds', cbar=False, ax=axes[i], vmin=0, vmax=1)\n",
    "        axes[i].set_title(title)\n",
    "        axes[i].set_xlabel('Predicted')\n",
    "        axes[i].set_ylabel('True')\n",
    "    \n",
    "    plt.tight_layout()\n",
    "    plt.savefig(save_path, dpi=300, bbox_inches='tight')  # Save the plot\n",
    "    plt.show()\n",
    "\n",
    "# Plot and save the side-by-side misclassification patterns\n",
    "plot_side_by_side_misclassification_patterns(cms, titles, save_path='misclassification_patterns_comparison.png')"
   ]
  },
  {
   "cell_type": "markdown",
   "id": "31c8de28-4b7d-4dac-851c-e7c80e1d3031",
   "metadata": {},
   "source": [
    "# Saving best models (svm and fasttext)"
   ]
  },
  {
   "cell_type": "code",
   "execution_count": 47,
   "id": "d637bee9-5cd4-4914-9c54-1195a0f15360",
   "metadata": {},
   "outputs": [],
   "source": [
    "import joblib"
   ]
  },
  {
   "cell_type": "code",
   "execution_count": 48,
   "id": "4de3d2a1-b6c1-4526-a61b-3dad86b1a7db",
   "metadata": {},
   "outputs": [
    {
     "data": {
      "text/plain": [
       "['svm_model.pkl']"
      ]
     },
     "execution_count": 48,
     "metadata": {},
     "output_type": "execute_result"
    }
   ],
   "source": [
    "joblib.dump(best_svm, 'svm_model.pkl')"
   ]
  },
  {
   "cell_type": "code",
   "execution_count": 49,
   "id": "66d4b8d1-d613-4f13-b0e8-8ae40a0a4a0f",
   "metadata": {},
   "outputs": [
    {
     "data": {
      "text/plain": [
       "['tfidf_vectorizer.pkl']"
      ]
     },
     "execution_count": 49,
     "metadata": {},
     "output_type": "execute_result"
    }
   ],
   "source": [
    "joblib.dump(tfidf_vectorizer, 'tfidf_vectorizer.pkl')"
   ]
  },
  {
   "cell_type": "code",
   "execution_count": 131,
   "id": "e68042fa-241b-4d7e-b1b5-037efb87111b",
   "metadata": {},
   "outputs": [
    {
     "name": "stderr",
     "output_type": "stream",
     "text": [
      "Read 2M words\n",
      "Number of words:  83649\n",
      "Number of labels: 4\n",
      "Progress: 100.0% words/sec/thread: 1145714 lr:  0.000000 avg.loss:  0.198055 ETA:   0h 0m 0s\n"
     ]
    }
   ],
   "source": [
    "best_fasttext_model = fasttext.train_supervised(input='fasttext_train_test_data/train.train', lr= 0.05, epoch=10, wordNgrams= 2, dim= 200)"
   ]
  },
  {
   "cell_type": "code",
   "execution_count": 132,
   "id": "4c98fd7e-82e7-42ff-96a3-2995c8a180ea",
   "metadata": {},
   "outputs": [],
   "source": [
    "# quantize model for smaller file size and faster predictions\n",
    "best_fasttext_model.quantize(input='fasttext_train_test_data/train.train', retrain=True)"
   ]
  },
  {
   "cell_type": "code",
   "execution_count": 133,
   "id": "830a0f4b-3018-4938-ad94-b508da02dbc7",
   "metadata": {},
   "outputs": [
    {
     "name": "stdout",
     "output_type": "stream",
     "text": [
      "saved: fasttext_model.ftz\n"
     ]
    }
   ],
   "source": [
    "fasttext_model_name = \"fasttext_model.ftz\"\n",
    "best_fasttext_model.save_model(fasttext_model_name)\n",
    "print(f\"saved: {fasttext_model_name}\")"
   ]
  },
  {
   "cell_type": "markdown",
   "id": "89eeadca-ec0e-4b08-b503-8ffcc8a10243",
   "metadata": {},
   "source": [
    "# Testing model load and evaluate on external dataset"
   ]
  },
  {
   "cell_type": "code",
   "execution_count": 139,
   "id": "63fae694-889b-472c-aa6b-6f867126575d",
   "metadata": {},
   "outputs": [
    {
     "name": "stderr",
     "output_type": "stream",
     "text": [
      "Warning : `load_model` does not return WordVectorModel or SupervisedModel any more, but a `FastText` object which is very similar.\n"
     ]
    }
   ],
   "source": [
    "# Load SVM model, TF-IDF vectorizer and fasttext model\n",
    "svm = joblib.load('svm_model.pkl')\n",
    "tfidf_vectorizer = joblib.load('tfidf_vectorizer.pkl')\n",
    "model = fasttext.load_model('fasttext_model.ftz')"
   ]
  },
  {
   "cell_type": "markdown",
   "id": "60c7e574-ab9a-4a8e-b9a6-679a9dd2d1a8",
   "metadata": {},
   "source": [
    "### Evaluatin on external dataset"
   ]
  },
  {
   "cell_type": "code",
   "execution_count": 140,
   "id": "69e8bfb4-6c01-489a-b375-0e84a8dab673",
   "metadata": {},
   "outputs": [],
   "source": [
    "external_validation_set = pd.read_csv('train_test_data/test_data.csv')"
   ]
  },
  {
   "cell_type": "code",
   "execution_count": 141,
   "id": "e5aee770-118a-4991-b2be-c91feb5cc504",
   "metadata": {},
   "outputs": [
    {
     "data": {
      "text/html": [
       "<div>\n",
       "<style scoped>\n",
       "    .dataframe tbody tr th:only-of-type {\n",
       "        vertical-align: middle;\n",
       "    }\n",
       "\n",
       "    .dataframe tbody tr th {\n",
       "        vertical-align: top;\n",
       "    }\n",
       "\n",
       "    .dataframe thead th {\n",
       "        text-align: right;\n",
       "    }\n",
       "</style>\n",
       "<table border=\"1\" class=\"dataframe\">\n",
       "  <thead>\n",
       "    <tr style=\"text-align: right;\">\n",
       "      <th></th>\n",
       "      <th>Three quarters of financial firms still conducting anti-money laundering checks manually</th>\n",
       "      <th>2</th>\n",
       "    </tr>\n",
       "  </thead>\n",
       "  <tbody>\n",
       "    <tr>\n",
       "      <th>0</th>\n",
       "      <td>European stocks rally on hope ECB may be done ...</td>\n",
       "      <td>2</td>\n",
       "    </tr>\n",
       "    <tr>\n",
       "      <th>1</th>\n",
       "      <td>Gold prices have hit a new high, while the val...</td>\n",
       "      <td>2</td>\n",
       "    </tr>\n",
       "    <tr>\n",
       "      <th>2</th>\n",
       "      <td>Why food discount stickers may be a thing of t...</td>\n",
       "      <td>2</td>\n",
       "    </tr>\n",
       "  </tbody>\n",
       "</table>\n",
       "</div>"
      ],
      "text/plain": [
       "  Three quarters of financial firms still conducting anti-money laundering checks manually  \\\n",
       "0  European stocks rally on hope ECB may be done ...                                         \n",
       "1  Gold prices have hit a new high, while the val...                                         \n",
       "2  Why food discount stickers may be a thing of t...                                         \n",
       "\n",
       "   2  \n",
       "0  2  \n",
       "1  2  \n",
       "2  2  "
      ]
     },
     "execution_count": 141,
     "metadata": {},
     "output_type": "execute_result"
    }
   ],
   "source": [
    "external_validation_set.head(3)"
   ]
  },
  {
   "cell_type": "code",
   "execution_count": 142,
   "id": "0a43a17c-1e30-4ce4-8cde-cebb16e6e9b1",
   "metadata": {},
   "outputs": [],
   "source": [
    "external_validation_set.loc[-1] = external_validation_set.columns  # add current column names as a new row\n",
    "external_validation_set.index = external_validation_set.index + 1 \n",
    "external_validation_set = external_validation_set.sort_index()\n",
    "external_validation_set = external_validation_set.rename(columns={external_validation_set.columns[0]: \"text\"})\n",
    "external_validation_set = external_validation_set.rename(columns={external_validation_set.columns[1]: \"label\"})"
   ]
  },
  {
   "cell_type": "code",
   "execution_count": 143,
   "id": "e12bb377-8dd8-49a0-aea6-cb0f8f7bc801",
   "metadata": {},
   "outputs": [
    {
     "data": {
      "text/html": [
       "<div>\n",
       "<style scoped>\n",
       "    .dataframe tbody tr th:only-of-type {\n",
       "        vertical-align: middle;\n",
       "    }\n",
       "\n",
       "    .dataframe tbody tr th {\n",
       "        vertical-align: top;\n",
       "    }\n",
       "\n",
       "    .dataframe thead th {\n",
       "        text-align: right;\n",
       "    }\n",
       "</style>\n",
       "<table border=\"1\" class=\"dataframe\">\n",
       "  <thead>\n",
       "    <tr style=\"text-align: right;\">\n",
       "      <th></th>\n",
       "      <th>text</th>\n",
       "      <th>label</th>\n",
       "    </tr>\n",
       "  </thead>\n",
       "  <tbody>\n",
       "    <tr>\n",
       "      <th>0</th>\n",
       "      <td>Three quarters of financial firms still conduc...</td>\n",
       "      <td>2</td>\n",
       "    </tr>\n",
       "    <tr>\n",
       "      <th>1</th>\n",
       "      <td>European stocks rally on hope ECB may be done ...</td>\n",
       "      <td>2</td>\n",
       "    </tr>\n",
       "    <tr>\n",
       "      <th>2</th>\n",
       "      <td>Gold prices have hit a new high, while the val...</td>\n",
       "      <td>2</td>\n",
       "    </tr>\n",
       "  </tbody>\n",
       "</table>\n",
       "</div>"
      ],
      "text/plain": [
       "                                                text label\n",
       "0  Three quarters of financial firms still conduc...     2\n",
       "1  European stocks rally on hope ECB may be done ...     2\n",
       "2  Gold prices have hit a new high, while the val...     2"
      ]
     },
     "execution_count": 143,
     "metadata": {},
     "output_type": "execute_result"
    }
   ],
   "source": [
    "external_validation_set.head(3)"
   ]
  },
  {
   "cell_type": "code",
   "execution_count": 144,
   "id": "9aed9591-ea19-4d16-85b7-9d39d654d3f9",
   "metadata": {},
   "outputs": [],
   "source": [
    "external_validation_set['clean_text'] = external_validation_set['text'].map(clean_text).map(preprocess_text)"
   ]
  },
  {
   "cell_type": "code",
   "execution_count": 145,
   "id": "8e96d0d1-c764-4bc5-a742-1be77ccd053f",
   "metadata": {},
   "outputs": [
    {
     "data": {
      "text/html": [
       "<div>\n",
       "<style scoped>\n",
       "    .dataframe tbody tr th:only-of-type {\n",
       "        vertical-align: middle;\n",
       "    }\n",
       "\n",
       "    .dataframe tbody tr th {\n",
       "        vertical-align: top;\n",
       "    }\n",
       "\n",
       "    .dataframe thead th {\n",
       "        text-align: right;\n",
       "    }\n",
       "</style>\n",
       "<table border=\"1\" class=\"dataframe\">\n",
       "  <thead>\n",
       "    <tr style=\"text-align: right;\">\n",
       "      <th></th>\n",
       "      <th>text</th>\n",
       "      <th>label</th>\n",
       "      <th>clean_text</th>\n",
       "    </tr>\n",
       "  </thead>\n",
       "  <tbody>\n",
       "    <tr>\n",
       "      <th>0</th>\n",
       "      <td>Three quarters of financial firms still conduc...</td>\n",
       "      <td>2</td>\n",
       "      <td>three quarter financial firm still conducting ...</td>\n",
       "    </tr>\n",
       "    <tr>\n",
       "      <th>1</th>\n",
       "      <td>European stocks rally on hope ECB may be done ...</td>\n",
       "      <td>2</td>\n",
       "      <td>european stock rally hope ecb may done interes...</td>\n",
       "    </tr>\n",
       "    <tr>\n",
       "      <th>2</th>\n",
       "      <td>Gold prices have hit a new high, while the val...</td>\n",
       "      <td>2</td>\n",
       "      <td>gold price hit new high value bitcoin also surged</td>\n",
       "    </tr>\n",
       "  </tbody>\n",
       "</table>\n",
       "</div>"
      ],
      "text/plain": [
       "                                                text label  \\\n",
       "0  Three quarters of financial firms still conduc...     2   \n",
       "1  European stocks rally on hope ECB may be done ...     2   \n",
       "2  Gold prices have hit a new high, while the val...     2   \n",
       "\n",
       "                                          clean_text  \n",
       "0  three quarter financial firm still conducting ...  \n",
       "1  european stock rally hope ecb may done interes...  \n",
       "2  gold price hit new high value bitcoin also surged  "
      ]
     },
     "execution_count": 145,
     "metadata": {},
     "output_type": "execute_result"
    }
   ],
   "source": [
    "external_validation_set.head(3)"
   ]
  },
  {
   "cell_type": "code",
   "execution_count": 146,
   "id": "ab2bae36-3cd7-41bd-b304-c4ad41fcd6eb",
   "metadata": {},
   "outputs": [],
   "source": [
    "external_texts = list(external_validation_set['clean_text'])\n",
    "external_tfidf = tfidf_vectorizer.transform(external_texts)\n",
    "svm_predictions = svm.predict(external_tfidf)"
   ]
  },
  {
   "cell_type": "code",
   "execution_count": 147,
   "id": "76f916c1-51ed-44a4-af55-d7405cdb544f",
   "metadata": {},
   "outputs": [],
   "source": [
    "external_validation_set['svm_predictions'] = svm_predictions"
   ]
  },
  {
   "cell_type": "code",
   "execution_count": 148,
   "id": "fd9d9c88-f8d1-46e8-bed7-645c32bba363",
   "metadata": {},
   "outputs": [],
   "source": [
    "fasttext_predictions = [model.predict(text)[0][0] for text in external_texts]\n",
    "fasttext_predictions = [int(pred.split('__label__')[1]) for pred in fasttext_predictions]"
   ]
  },
  {
   "cell_type": "code",
   "execution_count": 150,
   "id": "1ff3c3df-2922-47e3-9af6-85da731ffde4",
   "metadata": {},
   "outputs": [],
   "source": [
    "external_validation_set['fasttext_predictions'] = fasttext_predictions"
   ]
  },
  {
   "cell_type": "code",
   "execution_count": 151,
   "id": "546b785f-6180-40c2-a4e3-ab252dc146b1",
   "metadata": {},
   "outputs": [
    {
     "data": {
      "text/html": [
       "<div>\n",
       "<style scoped>\n",
       "    .dataframe tbody tr th:only-of-type {\n",
       "        vertical-align: middle;\n",
       "    }\n",
       "\n",
       "    .dataframe tbody tr th {\n",
       "        vertical-align: top;\n",
       "    }\n",
       "\n",
       "    .dataframe thead th {\n",
       "        text-align: right;\n",
       "    }\n",
       "</style>\n",
       "<table border=\"1\" class=\"dataframe\">\n",
       "  <thead>\n",
       "    <tr style=\"text-align: right;\">\n",
       "      <th></th>\n",
       "      <th>text</th>\n",
       "      <th>label</th>\n",
       "      <th>clean_text</th>\n",
       "      <th>svm_predictions</th>\n",
       "      <th>fasttext_predictions</th>\n",
       "    </tr>\n",
       "  </thead>\n",
       "  <tbody>\n",
       "    <tr>\n",
       "      <th>0</th>\n",
       "      <td>Three quarters of financial firms still conduc...</td>\n",
       "      <td>2</td>\n",
       "      <td>three quarter financial firm still conducting ...</td>\n",
       "      <td>2</td>\n",
       "      <td>2</td>\n",
       "    </tr>\n",
       "    <tr>\n",
       "      <th>1</th>\n",
       "      <td>European stocks rally on hope ECB may be done ...</td>\n",
       "      <td>2</td>\n",
       "      <td>european stock rally hope ecb may done interes...</td>\n",
       "      <td>2</td>\n",
       "      <td>2</td>\n",
       "    </tr>\n",
       "    <tr>\n",
       "      <th>2</th>\n",
       "      <td>Gold prices have hit a new high, while the val...</td>\n",
       "      <td>2</td>\n",
       "      <td>gold price hit new high value bitcoin also surged</td>\n",
       "      <td>2</td>\n",
       "      <td>2</td>\n",
       "    </tr>\n",
       "    <tr>\n",
       "      <th>3</th>\n",
       "      <td>Why food discount stickers may be a thing of t...</td>\n",
       "      <td>2</td>\n",
       "      <td>food discount sticker may thing past</td>\n",
       "      <td>2</td>\n",
       "      <td>2</td>\n",
       "    </tr>\n",
       "    <tr>\n",
       "      <th>4</th>\n",
       "      <td>German cabinet tries to solve ‘no-debt’ crisis...</td>\n",
       "      <td>2</td>\n",
       "      <td>german cabinet try solve nodebt crisis court o...</td>\n",
       "      <td>0</td>\n",
       "      <td>0</td>\n",
       "    </tr>\n",
       "    <tr>\n",
       "      <th>5</th>\n",
       "      <td>Indonesia's volcano eruption leaves 22 dead</td>\n",
       "      <td>0</td>\n",
       "      <td>indonesia volcano eruption leaf 22 dead</td>\n",
       "      <td>0</td>\n",
       "      <td>0</td>\n",
       "    </tr>\n",
       "    <tr>\n",
       "      <th>6</th>\n",
       "      <td>Adverts for Air France, Lufthansa and Etihad h...</td>\n",
       "      <td>0</td>\n",
       "      <td>advert air france lufthansa etihad banned misl...</td>\n",
       "      <td>2</td>\n",
       "      <td>2</td>\n",
       "    </tr>\n",
       "    <tr>\n",
       "      <th>7</th>\n",
       "      <td>Maori MP performs haka before swearing oath to...</td>\n",
       "      <td>0</td>\n",
       "      <td>maori mp performs haka swearing oath king</td>\n",
       "      <td>0</td>\n",
       "      <td>0</td>\n",
       "    </tr>\n",
       "    <tr>\n",
       "      <th>8</th>\n",
       "      <td>Philippines earthquake: Video shows chaos in s...</td>\n",
       "      <td>0</td>\n",
       "      <td>philippine earthquake video show chaos shop tr...</td>\n",
       "      <td>0</td>\n",
       "      <td>0</td>\n",
       "    </tr>\n",
       "    <tr>\n",
       "      <th>9</th>\n",
       "      <td>Wakeskater plunges off Dubai skyscraper pool i...</td>\n",
       "      <td>0</td>\n",
       "      <td>wakeskater plunge dubai skyscraper pool world ...</td>\n",
       "      <td>3</td>\n",
       "      <td>3</td>\n",
       "    </tr>\n",
       "    <tr>\n",
       "      <th>10</th>\n",
       "      <td>Daniel Wiffen secures European Aquatic Champio...</td>\n",
       "      <td>1</td>\n",
       "      <td>daniel wiffen secures european aquatic champio...</td>\n",
       "      <td>1</td>\n",
       "      <td>1</td>\n",
       "    </tr>\n",
       "    <tr>\n",
       "      <th>11</th>\n",
       "      <td>Lionel Messi: Argentina forward named Time mag...</td>\n",
       "      <td>1</td>\n",
       "      <td>lionel messi argentina forward named time maga...</td>\n",
       "      <td>1</td>\n",
       "      <td>2</td>\n",
       "    </tr>\n",
       "    <tr>\n",
       "      <th>12</th>\n",
       "      <td>Independent regulator for cricket introduced b...</td>\n",
       "      <td>1</td>\n",
       "      <td>independent regulator cricket introduced ecb</td>\n",
       "      <td>1</td>\n",
       "      <td>2</td>\n",
       "    </tr>\n",
       "    <tr>\n",
       "      <th>13</th>\n",
       "      <td>Rory McIlroy: World number two backs plans to ...</td>\n",
       "      <td>1</td>\n",
       "      <td>rory mcilroy world number two back plan roll b...</td>\n",
       "      <td>1</td>\n",
       "      <td>1</td>\n",
       "    </tr>\n",
       "    <tr>\n",
       "      <th>14</th>\n",
       "      <td>Tiger Woods 'stalls' after promising second ro...</td>\n",
       "      <td>1</td>\n",
       "      <td>tiger wood stall promising second round start ...</td>\n",
       "      <td>1</td>\n",
       "      <td>1</td>\n",
       "    </tr>\n",
       "    <tr>\n",
       "      <th>15</th>\n",
       "      <td>The UN climate change conference in Dubai is c...</td>\n",
       "      <td>3</td>\n",
       "      <td>un climate change conference dubai close big b...</td>\n",
       "      <td>0</td>\n",
       "      <td>0</td>\n",
       "    </tr>\n",
       "    <tr>\n",
       "      <th>16</th>\n",
       "      <td>Hackers have been able to gain access to perso...</td>\n",
       "      <td>3</td>\n",
       "      <td>hacker able gain access personal information 6...</td>\n",
       "      <td>3</td>\n",
       "      <td>3</td>\n",
       "    </tr>\n",
       "    <tr>\n",
       "      <th>17</th>\n",
       "      <td>The country hosting COP28 climate talks aimed ...</td>\n",
       "      <td>3</td>\n",
       "      <td>country hosting cop28 climate talk aimed cutti...</td>\n",
       "      <td>3</td>\n",
       "      <td>3</td>\n",
       "    </tr>\n",
       "    <tr>\n",
       "      <th>18</th>\n",
       "      <td>2023 to be hottest year in recorded history, s...</td>\n",
       "      <td>3</td>\n",
       "      <td>2023 hottest year recorded history say europe ...</td>\n",
       "      <td>3</td>\n",
       "      <td>3</td>\n",
       "    </tr>\n",
       "    <tr>\n",
       "      <th>19</th>\n",
       "      <td>Why weather in games is getting more realistic</td>\n",
       "      <td>3</td>\n",
       "      <td>weather game getting realistic</td>\n",
       "      <td>3</td>\n",
       "      <td>3</td>\n",
       "    </tr>\n",
       "  </tbody>\n",
       "</table>\n",
       "</div>"
      ],
      "text/plain": [
       "                                                 text label  \\\n",
       "0   Three quarters of financial firms still conduc...     2   \n",
       "1   European stocks rally on hope ECB may be done ...     2   \n",
       "2   Gold prices have hit a new high, while the val...     2   \n",
       "3   Why food discount stickers may be a thing of t...     2   \n",
       "4   German cabinet tries to solve ‘no-debt’ crisis...     2   \n",
       "5         Indonesia's volcano eruption leaves 22 dead     0   \n",
       "6   Adverts for Air France, Lufthansa and Etihad h...     0   \n",
       "7   Maori MP performs haka before swearing oath to...     0   \n",
       "8   Philippines earthquake: Video shows chaos in s...     0   \n",
       "9   Wakeskater plunges off Dubai skyscraper pool i...     0   \n",
       "10  Daniel Wiffen secures European Aquatic Champio...     1   \n",
       "11  Lionel Messi: Argentina forward named Time mag...     1   \n",
       "12  Independent regulator for cricket introduced b...     1   \n",
       "13  Rory McIlroy: World number two backs plans to ...     1   \n",
       "14  Tiger Woods 'stalls' after promising second ro...     1   \n",
       "15  The UN climate change conference in Dubai is c...     3   \n",
       "16  Hackers have been able to gain access to perso...     3   \n",
       "17  The country hosting COP28 climate talks aimed ...     3   \n",
       "18  2023 to be hottest year in recorded history, s...     3   \n",
       "19     Why weather in games is getting more realistic     3   \n",
       "\n",
       "                                           clean_text  svm_predictions  \\\n",
       "0   three quarter financial firm still conducting ...                2   \n",
       "1   european stock rally hope ecb may done interes...                2   \n",
       "2   gold price hit new high value bitcoin also surged                2   \n",
       "3                food discount sticker may thing past                2   \n",
       "4   german cabinet try solve nodebt crisis court o...                0   \n",
       "5             indonesia volcano eruption leaf 22 dead                0   \n",
       "6   advert air france lufthansa etihad banned misl...                2   \n",
       "7           maori mp performs haka swearing oath king                0   \n",
       "8   philippine earthquake video show chaos shop tr...                0   \n",
       "9   wakeskater plunge dubai skyscraper pool world ...                3   \n",
       "10  daniel wiffen secures european aquatic champio...                1   \n",
       "11  lionel messi argentina forward named time maga...                1   \n",
       "12       independent regulator cricket introduced ecb                1   \n",
       "13  rory mcilroy world number two back plan roll b...                1   \n",
       "14  tiger wood stall promising second round start ...                1   \n",
       "15  un climate change conference dubai close big b...                0   \n",
       "16  hacker able gain access personal information 6...                3   \n",
       "17  country hosting cop28 climate talk aimed cutti...                3   \n",
       "18  2023 hottest year recorded history say europe ...                3   \n",
       "19                     weather game getting realistic                3   \n",
       "\n",
       "    fasttext_predictions  \n",
       "0                      2  \n",
       "1                      2  \n",
       "2                      2  \n",
       "3                      2  \n",
       "4                      0  \n",
       "5                      0  \n",
       "6                      2  \n",
       "7                      0  \n",
       "8                      0  \n",
       "9                      3  \n",
       "10                     1  \n",
       "11                     2  \n",
       "12                     2  \n",
       "13                     1  \n",
       "14                     1  \n",
       "15                     0  \n",
       "16                     3  \n",
       "17                     3  \n",
       "18                     3  \n",
       "19                     3  "
      ]
     },
     "execution_count": 151,
     "metadata": {},
     "output_type": "execute_result"
    }
   ],
   "source": [
    "external_validation_set"
   ]
  },
  {
   "cell_type": "markdown",
   "id": "05ce9d5d-30c4-4647-842f-26ace15a0416",
   "metadata": {},
   "source": [
    "### svm better at category 1, using ensamble to give weight to 1s from svm"
   ]
  },
  {
   "cell_type": "code",
   "execution_count": 168,
   "id": "06d3c078-c55f-4539-a76d-855dbddad55f",
   "metadata": {},
   "outputs": [],
   "source": [
    "def combine_results(list1, list2):\n",
    "    \"\"\"\n",
    "    Combines two lists by keeping the 1s from list1 and the rest from list2.\n",
    "    \"\"\"\n",
    "    result = []\n",
    "    for x, y in zip(list1, list2):\n",
    "        if x == 1:\n",
    "            result.append(x)\n",
    "        else:\n",
    "            result.append(y)\n",
    "    return result"
   ]
  },
  {
   "cell_type": "code",
   "execution_count": 169,
   "id": "a1768f30-4d52-4d63-bd82-e37cb4ca94ed",
   "metadata": {},
   "outputs": [],
   "source": [
    "combined = combine_results(list(external_validation_set[\"svm_predictions\"]), list(external_validation_set['fasttext_predictions']))"
   ]
  },
  {
   "cell_type": "code",
   "execution_count": 171,
   "id": "32f6556a-eae9-4c36-a7b0-e36936b21cce",
   "metadata": {},
   "outputs": [],
   "source": [
    "external_validation_set['ensamble'] = combined"
   ]
  },
  {
   "cell_type": "code",
   "execution_count": 172,
   "id": "b6fb571c-71d0-401c-9378-e5ef81e5053d",
   "metadata": {},
   "outputs": [
    {
     "data": {
      "text/html": [
       "<div>\n",
       "<style scoped>\n",
       "    .dataframe tbody tr th:only-of-type {\n",
       "        vertical-align: middle;\n",
       "    }\n",
       "\n",
       "    .dataframe tbody tr th {\n",
       "        vertical-align: top;\n",
       "    }\n",
       "\n",
       "    .dataframe thead th {\n",
       "        text-align: right;\n",
       "    }\n",
       "</style>\n",
       "<table border=\"1\" class=\"dataframe\">\n",
       "  <thead>\n",
       "    <tr style=\"text-align: right;\">\n",
       "      <th></th>\n",
       "      <th>text</th>\n",
       "      <th>label</th>\n",
       "      <th>clean_text</th>\n",
       "      <th>svm_predictions</th>\n",
       "      <th>fasttext_predictions</th>\n",
       "      <th>ensamble</th>\n",
       "    </tr>\n",
       "  </thead>\n",
       "  <tbody>\n",
       "    <tr>\n",
       "      <th>0</th>\n",
       "      <td>Three quarters of financial firms still conduc...</td>\n",
       "      <td>2</td>\n",
       "      <td>three quarter financial firm still conducting ...</td>\n",
       "      <td>2</td>\n",
       "      <td>2</td>\n",
       "      <td>2</td>\n",
       "    </tr>\n",
       "    <tr>\n",
       "      <th>1</th>\n",
       "      <td>European stocks rally on hope ECB may be done ...</td>\n",
       "      <td>2</td>\n",
       "      <td>european stock rally hope ecb may done interes...</td>\n",
       "      <td>2</td>\n",
       "      <td>2</td>\n",
       "      <td>2</td>\n",
       "    </tr>\n",
       "    <tr>\n",
       "      <th>2</th>\n",
       "      <td>Gold prices have hit a new high, while the val...</td>\n",
       "      <td>2</td>\n",
       "      <td>gold price hit new high value bitcoin also surged</td>\n",
       "      <td>2</td>\n",
       "      <td>2</td>\n",
       "      <td>2</td>\n",
       "    </tr>\n",
       "    <tr>\n",
       "      <th>3</th>\n",
       "      <td>Why food discount stickers may be a thing of t...</td>\n",
       "      <td>2</td>\n",
       "      <td>food discount sticker may thing past</td>\n",
       "      <td>2</td>\n",
       "      <td>2</td>\n",
       "      <td>2</td>\n",
       "    </tr>\n",
       "    <tr>\n",
       "      <th>4</th>\n",
       "      <td>German cabinet tries to solve ‘no-debt’ crisis...</td>\n",
       "      <td>2</td>\n",
       "      <td>german cabinet try solve nodebt crisis court o...</td>\n",
       "      <td>0</td>\n",
       "      <td>0</td>\n",
       "      <td>0</td>\n",
       "    </tr>\n",
       "    <tr>\n",
       "      <th>5</th>\n",
       "      <td>Indonesia's volcano eruption leaves 22 dead</td>\n",
       "      <td>0</td>\n",
       "      <td>indonesia volcano eruption leaf 22 dead</td>\n",
       "      <td>0</td>\n",
       "      <td>0</td>\n",
       "      <td>0</td>\n",
       "    </tr>\n",
       "    <tr>\n",
       "      <th>6</th>\n",
       "      <td>Adverts for Air France, Lufthansa and Etihad h...</td>\n",
       "      <td>0</td>\n",
       "      <td>advert air france lufthansa etihad banned misl...</td>\n",
       "      <td>2</td>\n",
       "      <td>2</td>\n",
       "      <td>2</td>\n",
       "    </tr>\n",
       "    <tr>\n",
       "      <th>7</th>\n",
       "      <td>Maori MP performs haka before swearing oath to...</td>\n",
       "      <td>0</td>\n",
       "      <td>maori mp performs haka swearing oath king</td>\n",
       "      <td>0</td>\n",
       "      <td>0</td>\n",
       "      <td>0</td>\n",
       "    </tr>\n",
       "    <tr>\n",
       "      <th>8</th>\n",
       "      <td>Philippines earthquake: Video shows chaos in s...</td>\n",
       "      <td>0</td>\n",
       "      <td>philippine earthquake video show chaos shop tr...</td>\n",
       "      <td>0</td>\n",
       "      <td>0</td>\n",
       "      <td>0</td>\n",
       "    </tr>\n",
       "    <tr>\n",
       "      <th>9</th>\n",
       "      <td>Wakeskater plunges off Dubai skyscraper pool i...</td>\n",
       "      <td>0</td>\n",
       "      <td>wakeskater plunge dubai skyscraper pool world ...</td>\n",
       "      <td>3</td>\n",
       "      <td>3</td>\n",
       "      <td>3</td>\n",
       "    </tr>\n",
       "    <tr>\n",
       "      <th>10</th>\n",
       "      <td>Daniel Wiffen secures European Aquatic Champio...</td>\n",
       "      <td>1</td>\n",
       "      <td>daniel wiffen secures european aquatic champio...</td>\n",
       "      <td>1</td>\n",
       "      <td>1</td>\n",
       "      <td>1</td>\n",
       "    </tr>\n",
       "    <tr>\n",
       "      <th>11</th>\n",
       "      <td>Lionel Messi: Argentina forward named Time mag...</td>\n",
       "      <td>1</td>\n",
       "      <td>lionel messi argentina forward named time maga...</td>\n",
       "      <td>1</td>\n",
       "      <td>2</td>\n",
       "      <td>1</td>\n",
       "    </tr>\n",
       "    <tr>\n",
       "      <th>12</th>\n",
       "      <td>Independent regulator for cricket introduced b...</td>\n",
       "      <td>1</td>\n",
       "      <td>independent regulator cricket introduced ecb</td>\n",
       "      <td>1</td>\n",
       "      <td>2</td>\n",
       "      <td>1</td>\n",
       "    </tr>\n",
       "    <tr>\n",
       "      <th>13</th>\n",
       "      <td>Rory McIlroy: World number two backs plans to ...</td>\n",
       "      <td>1</td>\n",
       "      <td>rory mcilroy world number two back plan roll b...</td>\n",
       "      <td>1</td>\n",
       "      <td>1</td>\n",
       "      <td>1</td>\n",
       "    </tr>\n",
       "    <tr>\n",
       "      <th>14</th>\n",
       "      <td>Tiger Woods 'stalls' after promising second ro...</td>\n",
       "      <td>1</td>\n",
       "      <td>tiger wood stall promising second round start ...</td>\n",
       "      <td>1</td>\n",
       "      <td>1</td>\n",
       "      <td>1</td>\n",
       "    </tr>\n",
       "    <tr>\n",
       "      <th>15</th>\n",
       "      <td>The UN climate change conference in Dubai is c...</td>\n",
       "      <td>3</td>\n",
       "      <td>un climate change conference dubai close big b...</td>\n",
       "      <td>0</td>\n",
       "      <td>0</td>\n",
       "      <td>0</td>\n",
       "    </tr>\n",
       "    <tr>\n",
       "      <th>16</th>\n",
       "      <td>Hackers have been able to gain access to perso...</td>\n",
       "      <td>3</td>\n",
       "      <td>hacker able gain access personal information 6...</td>\n",
       "      <td>3</td>\n",
       "      <td>3</td>\n",
       "      <td>3</td>\n",
       "    </tr>\n",
       "    <tr>\n",
       "      <th>17</th>\n",
       "      <td>The country hosting COP28 climate talks aimed ...</td>\n",
       "      <td>3</td>\n",
       "      <td>country hosting cop28 climate talk aimed cutti...</td>\n",
       "      <td>3</td>\n",
       "      <td>3</td>\n",
       "      <td>3</td>\n",
       "    </tr>\n",
       "    <tr>\n",
       "      <th>18</th>\n",
       "      <td>2023 to be hottest year in recorded history, s...</td>\n",
       "      <td>3</td>\n",
       "      <td>2023 hottest year recorded history say europe ...</td>\n",
       "      <td>3</td>\n",
       "      <td>3</td>\n",
       "      <td>3</td>\n",
       "    </tr>\n",
       "    <tr>\n",
       "      <th>19</th>\n",
       "      <td>Why weather in games is getting more realistic</td>\n",
       "      <td>3</td>\n",
       "      <td>weather game getting realistic</td>\n",
       "      <td>3</td>\n",
       "      <td>3</td>\n",
       "      <td>3</td>\n",
       "    </tr>\n",
       "  </tbody>\n",
       "</table>\n",
       "</div>"
      ],
      "text/plain": [
       "                                                 text label  \\\n",
       "0   Three quarters of financial firms still conduc...     2   \n",
       "1   European stocks rally on hope ECB may be done ...     2   \n",
       "2   Gold prices have hit a new high, while the val...     2   \n",
       "3   Why food discount stickers may be a thing of t...     2   \n",
       "4   German cabinet tries to solve ‘no-debt’ crisis...     2   \n",
       "5         Indonesia's volcano eruption leaves 22 dead     0   \n",
       "6   Adverts for Air France, Lufthansa and Etihad h...     0   \n",
       "7   Maori MP performs haka before swearing oath to...     0   \n",
       "8   Philippines earthquake: Video shows chaos in s...     0   \n",
       "9   Wakeskater plunges off Dubai skyscraper pool i...     0   \n",
       "10  Daniel Wiffen secures European Aquatic Champio...     1   \n",
       "11  Lionel Messi: Argentina forward named Time mag...     1   \n",
       "12  Independent regulator for cricket introduced b...     1   \n",
       "13  Rory McIlroy: World number two backs plans to ...     1   \n",
       "14  Tiger Woods 'stalls' after promising second ro...     1   \n",
       "15  The UN climate change conference in Dubai is c...     3   \n",
       "16  Hackers have been able to gain access to perso...     3   \n",
       "17  The country hosting COP28 climate talks aimed ...     3   \n",
       "18  2023 to be hottest year in recorded history, s...     3   \n",
       "19     Why weather in games is getting more realistic     3   \n",
       "\n",
       "                                           clean_text  svm_predictions  \\\n",
       "0   three quarter financial firm still conducting ...                2   \n",
       "1   european stock rally hope ecb may done interes...                2   \n",
       "2   gold price hit new high value bitcoin also surged                2   \n",
       "3                food discount sticker may thing past                2   \n",
       "4   german cabinet try solve nodebt crisis court o...                0   \n",
       "5             indonesia volcano eruption leaf 22 dead                0   \n",
       "6   advert air france lufthansa etihad banned misl...                2   \n",
       "7           maori mp performs haka swearing oath king                0   \n",
       "8   philippine earthquake video show chaos shop tr...                0   \n",
       "9   wakeskater plunge dubai skyscraper pool world ...                3   \n",
       "10  daniel wiffen secures european aquatic champio...                1   \n",
       "11  lionel messi argentina forward named time maga...                1   \n",
       "12       independent regulator cricket introduced ecb                1   \n",
       "13  rory mcilroy world number two back plan roll b...                1   \n",
       "14  tiger wood stall promising second round start ...                1   \n",
       "15  un climate change conference dubai close big b...                0   \n",
       "16  hacker able gain access personal information 6...                3   \n",
       "17  country hosting cop28 climate talk aimed cutti...                3   \n",
       "18  2023 hottest year recorded history say europe ...                3   \n",
       "19                     weather game getting realistic                3   \n",
       "\n",
       "    fasttext_predictions  ensamble  \n",
       "0                      2         2  \n",
       "1                      2         2  \n",
       "2                      2         2  \n",
       "3                      2         2  \n",
       "4                      0         0  \n",
       "5                      0         0  \n",
       "6                      2         2  \n",
       "7                      0         0  \n",
       "8                      0         0  \n",
       "9                      3         3  \n",
       "10                     1         1  \n",
       "11                     2         1  \n",
       "12                     2         1  \n",
       "13                     1         1  \n",
       "14                     1         1  \n",
       "15                     0         0  \n",
       "16                     3         3  \n",
       "17                     3         3  \n",
       "18                     3         3  \n",
       "19                     3         3  "
      ]
     },
     "execution_count": 172,
     "metadata": {},
     "output_type": "execute_result"
    }
   ],
   "source": [
    "external_validation_set"
   ]
  },
  {
   "cell_type": "code",
   "execution_count": 176,
   "id": "fa01715e-eaea-400c-8624-1dbce73b4b83",
   "metadata": {},
   "outputs": [],
   "source": [
    "# Convert specific columns to integers\n",
    "columns_to_convert = ['label', 'svm_predictions', 'fasttext_predictions', 'ensamble']\n",
    "external_validation_set[columns_to_convert] = external_validation_set[columns_to_convert].astype(int)"
   ]
  },
  {
   "cell_type": "code",
   "execution_count": 177,
   "id": "d5499736-c5b2-43f8-8915-da5cfba77add",
   "metadata": {},
   "outputs": [
    {
     "name": "stdout",
     "output_type": "stream",
     "text": [
      "SVM Metrics:\n",
      "Precision: 0.8000, Recall: 0.8000, F1 Score: 0.8000\n",
      "\n",
      "FastText Metrics:\n",
      "Precision: 0.7429, Recall: 0.7000, F1 Score: 0.7042\n",
      "\n",
      "Ensemble Metrics:\n",
      "Precision: 0.8000, Recall: 0.8000, F1 Score: 0.8000\n"
     ]
    }
   ],
   "source": [
    "from sklearn.metrics import precision_score, recall_score, f1_score\n",
    "\n",
    "# True labels\n",
    "true_labels = external_validation_set['label']\n",
    "\n",
    "# Calculate metrics for SVM predictions\n",
    "svm_precision = precision_score(true_labels, external_validation_set['svm_predictions'], average='weighted')\n",
    "svm_recall = recall_score(true_labels, external_validation_set['svm_predictions'], average='weighted')\n",
    "svm_f1 = f1_score(true_labels, external_validation_set['svm_predictions'], average='weighted')\n",
    "\n",
    "# Calculate metrics for FastText predictions\n",
    "fasttext_precision = precision_score(true_labels, external_validation_set['fasttext_predictions'], average='weighted')\n",
    "fasttext_recall = recall_score(true_labels, external_validation_set['fasttext_predictions'], average='weighted')\n",
    "fasttext_f1 = f1_score(true_labels, external_validation_set['fasttext_predictions'], average='weighted')\n",
    "\n",
    "# Calculate metrics for ensemble predictions\n",
    "ensamble_precision = precision_score(true_labels, external_validation_set['ensamble'], average='weighted')\n",
    "ensamble_recall = recall_score(true_labels, external_validation_set['ensamble'], average='weighted')\n",
    "ensamble_f1 = f1_score(true_labels, external_validation_set['ensamble'], average='weighted')\n",
    "\n",
    "# Print results\n",
    "print(\"SVM Metrics:\")\n",
    "print(f\"Precision: {svm_precision:.4f}, Recall: {svm_recall:.4f}, F1 Score: {svm_f1:.4f}\")\n",
    "\n",
    "print(\"\\nFastText Metrics:\")\n",
    "print(f\"Precision: {fasttext_precision:.4f}, Recall: {fasttext_recall:.4f}, F1 Score: {fasttext_f1:.4f}\")\n",
    "\n",
    "print(\"\\nEnsemble Metrics:\")\n",
    "print(f\"Precision: {ensamble_precision:.4f}, Recall: {ensamble_recall:.4f}, F1 Score: {ensamble_f1:.4f}\")"
   ]
  },
  {
   "cell_type": "code",
   "execution_count": null,
   "id": "5d365967-a373-4b4b-9077-cd7ab96120ba",
   "metadata": {},
   "outputs": [],
   "source": [
    "# using only svm for the api"
   ]
  }
 ],
 "metadata": {
  "kernelspec": {
   "display_name": "Python 3 (ipykernel)",
   "language": "python",
   "name": "python3"
  },
  "language_info": {
   "codemirror_mode": {
    "name": "ipython",
    "version": 3
   },
   "file_extension": ".py",
   "mimetype": "text/x-python",
   "name": "python",
   "nbconvert_exporter": "python",
   "pygments_lexer": "ipython3",
   "version": "3.11.11"
  }
 },
 "nbformat": 4,
 "nbformat_minor": 5
}
